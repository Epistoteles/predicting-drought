{
 "cells": [
  {
   "cell_type": "markdown",
   "metadata": {},
   "source": [
    "> ## US Drought & Meteorological Data Starter Notebook\n",
    "This notebook will walk you trough loading the data and create a Dummy Classifier, showing a range of F1 scores that correspond to random predictions if given theclass priors."
   ]
  },
  {
   "cell_type": "markdown",
   "metadata": {},
   "source": [
    "## Loading & Visualizing the Data\n",
    "In this section, we load the training and validation data into numpy arrays and visualize the drought classes and meteorological attributes."
   ]
  },
  {
   "cell_type": "markdown",
   "metadata": {},
   "source": [
    "We load the csv files for training, validation and testing into the ``files`` dictionary."
   ]
  },
  {
   "cell_type": "code",
   "execution_count": 2,
   "metadata": {
    "_kg_hide-input": false
   },
   "outputs": [
    {
     "name": "stdout",
     "output_type": "stream",
     "text": [
      "{'valid': './validation_timeseries.csv', 'test': './test_timeseries.csv', 'train': './train_timeseries.csv'}\n"
     ]
    }
   ],
   "source": [
    "import numpy as np\n",
    "import pandas as pd\n",
    "import json\n",
    "import os\n",
    "import matplotlib.pyplot as plt\n",
    "import seaborn as sns\n",
    "from tqdm.auto import tqdm\n",
    "from datetime import datetime\n",
    "sns.set_style('white')\n",
    "\n",
    "files = {}\n",
    "\n",
    "for dirname, _, filenames in os.walk('.'):\n",
    "    for filename in filenames:\n",
    "        if 'train' in filename:\n",
    "            files['train'] = os.path.join(dirname, filename)\n",
    "        if 'valid' in filename:\n",
    "            files['valid'] = os.path.join(dirname, filename)\n",
    "        if 'test' in filename:\n",
    "            files['test'] = os.path.join(dirname, filename)\n",
    "            \n",
    "print(files)"
   ]
  },
  {
   "cell_type": "markdown",
   "metadata": {},
   "source": [
    "The following classes exist, ranging from no drought (``None``), to extreme drought (``D4``).\n",
    "This could be treated as a regression, ordinal or classification problem, but for now we will treat it as 5 distinct classes."
   ]
  },
  {
   "cell_type": "code",
   "execution_count": 3,
   "metadata": {
    "_kg_hide-input": true
   },
   "outputs": [],
   "source": [
    "class2id = {\n",
    "    'None': 0,\n",
    "    'D0': 1,\n",
    "    'D1': 2,\n",
    "    'D2': 3,\n",
    "    'D3': 4,\n",
    "    'D4': 5,\n",
    "}\n",
    "id2class = {v: k for k, v in class2id.items()}"
   ]
  },
  {
   "cell_type": "markdown",
   "metadata": {},
   "source": [
    "Now we'll define a helper method to load the datasets. This just walks through the json and discards the few samples that are corrupted."
   ]
  },
  {
   "cell_type": "code",
   "execution_count": 4,
   "metadata": {},
   "outputs": [],
   "source": [
    "dfs = {\n",
    "    k: pd.read_csv(files[k]).set_index(['fips', 'date'])\n",
    "    for k in files.keys()\n",
    "}"
   ]
  },
  {
   "cell_type": "code",
   "execution_count": 17,
   "metadata": {},
   "outputs": [],
   "source": [
    "import numpy as np\n",
    "from scipy.interpolate import interp1d\n",
    "\n",
    "def interpolate_nans(padata, pkind='linear'):\n",
    "    \"\"\"\n",
    "    see: https://stackoverflow.com/a/53050216/2167159\n",
    "    \"\"\"\n",
    "    aindexes = np.arange(padata.shape[0])\n",
    "    agood_indexes, = np.where(np.isfinite(padata))\n",
    "    f = interp1d(agood_indexes\n",
    "               , padata[agood_indexes]\n",
    "               , bounds_error=False\n",
    "               , copy=False\n",
    "               , fill_value=\"extrapolate\"\n",
    "               , kind=pkind)\n",
    "    return f(aindexes)"
   ]
  },
  {
   "cell_type": "code",
   "execution_count": 30,
   "metadata": {},
   "outputs": [],
   "source": [
    "# load one of 'train', 'valid' or 'test'\n",
    "def loadXY(df, shuffle=True, random_state=42, window_size=180, target_size=12):\n",
    "    soil_df = pd.read_csv('soil_data.csv')\n",
    "    time_data_cols = sorted([c for c in df.columns if c not in ['fips','date','score']])\n",
    "    static_data_cols = sorted([c for c in soil_df.columns if c not in ['soil','lat','lon']])\n",
    "    count = 0\n",
    "    score_df = df.dropna(subset=['score'])\n",
    "    X_static = np.empty((len(df)//window_size, len(static_data_cols)))\n",
    "    X_time = np.empty((len(df)//window_size, window_size, len(time_data_cols)))\n",
    "    y_past = np.empty((len(df)//window_size, window_size))\n",
    "    y_target = np.empty((len(df)//window_size, target_size))\n",
    "    for fips in tqdm(score_df.index.get_level_values(0).unique()):\n",
    "        start_i = 1 #np.random.randint(1, window_size)\n",
    "        fips_df = df[(df.index.get_level_values(0)==fips)]\n",
    "        X = fips_df[time_data_cols].values\n",
    "        y = fips_df['score'].values\n",
    "        X_s = soil_df[soil_df['fips']==fips][static_data_cols].values[0]\n",
    "        for i in range(start_i, len(y)-(window_size+target_size*7), window_size):\n",
    "            X_time[count] = X[i:i+window_size]\n",
    "            y_past[count] = interpolate_nans(y[i:i+window_size])\n",
    "            temp_y = y[i+window_size:i+window_size+target_size*7]\n",
    "            y_target[count] = np.array(temp_y[~np.isnan(temp_y)][:target_size])\n",
    "            X_static[count] = X_s\n",
    "            count += 1\n",
    "    return X_static[:count], X_time[:count], y_past[:count], y_target[:count]"
   ]
  },
  {
   "cell_type": "code",
   "execution_count": 46,
   "metadata": {},
   "outputs": [
    {
     "data": {
      "text/html": [
       "<div>\n",
       "<style scoped>\n",
       "    .dataframe tbody tr th:only-of-type {\n",
       "        vertical-align: middle;\n",
       "    }\n",
       "\n",
       "    .dataframe tbody tr th {\n",
       "        vertical-align: top;\n",
       "    }\n",
       "\n",
       "    .dataframe thead th {\n",
       "        text-align: right;\n",
       "    }\n",
       "</style>\n",
       "<table border=\"1\" class=\"dataframe\">\n",
       "  <thead>\n",
       "    <tr style=\"text-align: right;\">\n",
       "      <th></th>\n",
       "      <th></th>\n",
       "      <th>PRECTOT</th>\n",
       "      <th>PS</th>\n",
       "      <th>QV2M</th>\n",
       "      <th>T2M</th>\n",
       "      <th>T2MDEW</th>\n",
       "      <th>T2MWET</th>\n",
       "      <th>T2M_MAX</th>\n",
       "      <th>T2M_MIN</th>\n",
       "      <th>T2M_RANGE</th>\n",
       "      <th>TS</th>\n",
       "      <th>WS10M</th>\n",
       "      <th>WS10M_MAX</th>\n",
       "      <th>WS10M_MIN</th>\n",
       "      <th>WS10M_RANGE</th>\n",
       "      <th>WS50M</th>\n",
       "      <th>WS50M_MAX</th>\n",
       "      <th>WS50M_MIN</th>\n",
       "      <th>WS50M_RANGE</th>\n",
       "      <th>score</th>\n",
       "    </tr>\n",
       "    <tr>\n",
       "      <th>fips</th>\n",
       "      <th>date</th>\n",
       "      <th></th>\n",
       "      <th></th>\n",
       "      <th></th>\n",
       "      <th></th>\n",
       "      <th></th>\n",
       "      <th></th>\n",
       "      <th></th>\n",
       "      <th></th>\n",
       "      <th></th>\n",
       "      <th></th>\n",
       "      <th></th>\n",
       "      <th></th>\n",
       "      <th></th>\n",
       "      <th></th>\n",
       "      <th></th>\n",
       "      <th></th>\n",
       "      <th></th>\n",
       "      <th></th>\n",
       "      <th></th>\n",
       "    </tr>\n",
       "  </thead>\n",
       "  <tbody>\n",
       "    <tr>\n",
       "      <th rowspan=\"11\" valign=\"top\">1001</th>\n",
       "      <th>2000-01-01</th>\n",
       "      <td>0.22</td>\n",
       "      <td>100.51</td>\n",
       "      <td>9.65</td>\n",
       "      <td>14.74</td>\n",
       "      <td>13.51</td>\n",
       "      <td>13.51</td>\n",
       "      <td>20.96</td>\n",
       "      <td>11.46</td>\n",
       "      <td>9.50</td>\n",
       "      <td>14.65</td>\n",
       "      <td>2.20</td>\n",
       "      <td>2.94</td>\n",
       "      <td>1.49</td>\n",
       "      <td>1.46</td>\n",
       "      <td>4.85</td>\n",
       "      <td>6.04</td>\n",
       "      <td>3.23</td>\n",
       "      <td>2.81</td>\n",
       "      <td>NaN</td>\n",
       "    </tr>\n",
       "    <tr>\n",
       "      <th>2000-01-02</th>\n",
       "      <td>0.20</td>\n",
       "      <td>100.55</td>\n",
       "      <td>10.42</td>\n",
       "      <td>16.69</td>\n",
       "      <td>14.71</td>\n",
       "      <td>14.71</td>\n",
       "      <td>22.80</td>\n",
       "      <td>12.61</td>\n",
       "      <td>10.18</td>\n",
       "      <td>16.60</td>\n",
       "      <td>2.52</td>\n",
       "      <td>3.43</td>\n",
       "      <td>1.83</td>\n",
       "      <td>1.60</td>\n",
       "      <td>5.33</td>\n",
       "      <td>6.13</td>\n",
       "      <td>3.72</td>\n",
       "      <td>2.41</td>\n",
       "      <td>NaN</td>\n",
       "    </tr>\n",
       "    <tr>\n",
       "      <th>2000-01-03</th>\n",
       "      <td>3.65</td>\n",
       "      <td>100.15</td>\n",
       "      <td>11.76</td>\n",
       "      <td>18.49</td>\n",
       "      <td>16.52</td>\n",
       "      <td>16.52</td>\n",
       "      <td>22.73</td>\n",
       "      <td>15.32</td>\n",
       "      <td>7.41</td>\n",
       "      <td>18.41</td>\n",
       "      <td>4.03</td>\n",
       "      <td>5.33</td>\n",
       "      <td>2.66</td>\n",
       "      <td>2.67</td>\n",
       "      <td>7.53</td>\n",
       "      <td>9.52</td>\n",
       "      <td>5.87</td>\n",
       "      <td>3.66</td>\n",
       "      <td>NaN</td>\n",
       "    </tr>\n",
       "    <tr>\n",
       "      <th>2000-01-04</th>\n",
       "      <td>15.95</td>\n",
       "      <td>100.29</td>\n",
       "      <td>6.42</td>\n",
       "      <td>11.40</td>\n",
       "      <td>6.09</td>\n",
       "      <td>6.10</td>\n",
       "      <td>18.09</td>\n",
       "      <td>2.16</td>\n",
       "      <td>15.92</td>\n",
       "      <td>11.31</td>\n",
       "      <td>3.84</td>\n",
       "      <td>5.67</td>\n",
       "      <td>2.08</td>\n",
       "      <td>3.59</td>\n",
       "      <td>6.73</td>\n",
       "      <td>9.31</td>\n",
       "      <td>3.74</td>\n",
       "      <td>5.58</td>\n",
       "      <td>1.0000</td>\n",
       "    </tr>\n",
       "    <tr>\n",
       "      <th>2000-01-05</th>\n",
       "      <td>0.00</td>\n",
       "      <td>101.15</td>\n",
       "      <td>2.95</td>\n",
       "      <td>3.86</td>\n",
       "      <td>-3.29</td>\n",
       "      <td>-3.20</td>\n",
       "      <td>10.82</td>\n",
       "      <td>-2.66</td>\n",
       "      <td>13.48</td>\n",
       "      <td>2.65</td>\n",
       "      <td>1.60</td>\n",
       "      <td>2.50</td>\n",
       "      <td>0.52</td>\n",
       "      <td>1.98</td>\n",
       "      <td>2.94</td>\n",
       "      <td>4.85</td>\n",
       "      <td>0.65</td>\n",
       "      <td>4.19</td>\n",
       "      <td>NaN</td>\n",
       "    </tr>\n",
       "    <tr>\n",
       "      <th>...</th>\n",
       "      <td>...</td>\n",
       "      <td>...</td>\n",
       "      <td>...</td>\n",
       "      <td>...</td>\n",
       "      <td>...</td>\n",
       "      <td>...</td>\n",
       "      <td>...</td>\n",
       "      <td>...</td>\n",
       "      <td>...</td>\n",
       "      <td>...</td>\n",
       "      <td>...</td>\n",
       "      <td>...</td>\n",
       "      <td>...</td>\n",
       "      <td>...</td>\n",
       "      <td>...</td>\n",
       "      <td>...</td>\n",
       "      <td>...</td>\n",
       "      <td>...</td>\n",
       "      <td>...</td>\n",
       "    </tr>\n",
       "    <tr>\n",
       "      <th>2000-03-27</th>\n",
       "      <td>4.08</td>\n",
       "      <td>98.90</td>\n",
       "      <td>8.91</td>\n",
       "      <td>14.53</td>\n",
       "      <td>11.78</td>\n",
       "      <td>11.78</td>\n",
       "      <td>22.22</td>\n",
       "      <td>7.08</td>\n",
       "      <td>15.14</td>\n",
       "      <td>14.54</td>\n",
       "      <td>2.58</td>\n",
       "      <td>4.73</td>\n",
       "      <td>1.41</td>\n",
       "      <td>3.32</td>\n",
       "      <td>5.12</td>\n",
       "      <td>7.62</td>\n",
       "      <td>2.72</td>\n",
       "      <td>4.91</td>\n",
       "      <td>NaN</td>\n",
       "    </tr>\n",
       "    <tr>\n",
       "      <th>2000-03-28</th>\n",
       "      <td>0.00</td>\n",
       "      <td>99.07</td>\n",
       "      <td>7.46</td>\n",
       "      <td>14.58</td>\n",
       "      <td>9.10</td>\n",
       "      <td>9.10</td>\n",
       "      <td>24.09</td>\n",
       "      <td>5.37</td>\n",
       "      <td>18.71</td>\n",
       "      <td>14.53</td>\n",
       "      <td>2.97</td>\n",
       "      <td>5.13</td>\n",
       "      <td>1.60</td>\n",
       "      <td>3.53</td>\n",
       "      <td>5.80</td>\n",
       "      <td>8.68</td>\n",
       "      <td>3.52</td>\n",
       "      <td>5.16</td>\n",
       "      <td>1.2818</td>\n",
       "    </tr>\n",
       "    <tr>\n",
       "      <th>2000-03-29</th>\n",
       "      <td>1.77</td>\n",
       "      <td>99.65</td>\n",
       "      <td>8.12</td>\n",
       "      <td>14.82</td>\n",
       "      <td>10.34</td>\n",
       "      <td>10.35</td>\n",
       "      <td>21.28</td>\n",
       "      <td>8.17</td>\n",
       "      <td>13.11</td>\n",
       "      <td>14.89</td>\n",
       "      <td>1.84</td>\n",
       "      <td>2.67</td>\n",
       "      <td>0.89</td>\n",
       "      <td>1.78</td>\n",
       "      <td>3.64</td>\n",
       "      <td>5.34</td>\n",
       "      <td>1.90</td>\n",
       "      <td>3.45</td>\n",
       "      <td>NaN</td>\n",
       "    </tr>\n",
       "    <tr>\n",
       "      <th>2000-03-30</th>\n",
       "      <td>7.52</td>\n",
       "      <td>99.52</td>\n",
       "      <td>11.90</td>\n",
       "      <td>19.60</td>\n",
       "      <td>16.55</td>\n",
       "      <td>16.54</td>\n",
       "      <td>26.70</td>\n",
       "      <td>13.35</td>\n",
       "      <td>13.35</td>\n",
       "      <td>19.65</td>\n",
       "      <td>2.18</td>\n",
       "      <td>3.20</td>\n",
       "      <td>1.02</td>\n",
       "      <td>2.18</td>\n",
       "      <td>4.31</td>\n",
       "      <td>6.42</td>\n",
       "      <td>1.64</td>\n",
       "      <td>4.78</td>\n",
       "      <td>NaN</td>\n",
       "    </tr>\n",
       "    <tr>\n",
       "      <th>2000-03-31</th>\n",
       "      <td>0.14</td>\n",
       "      <td>100.14</td>\n",
       "      <td>8.85</td>\n",
       "      <td>17.07</td>\n",
       "      <td>12.09</td>\n",
       "      <td>12.09</td>\n",
       "      <td>25.05</td>\n",
       "      <td>9.47</td>\n",
       "      <td>15.58</td>\n",
       "      <td>17.03</td>\n",
       "      <td>1.70</td>\n",
       "      <td>2.10</td>\n",
       "      <td>1.15</td>\n",
       "      <td>0.96</td>\n",
       "      <td>3.40</td>\n",
       "      <td>4.96</td>\n",
       "      <td>2.05</td>\n",
       "      <td>2.90</td>\n",
       "      <td>NaN</td>\n",
       "    </tr>\n",
       "  </tbody>\n",
       "</table>\n",
       "<p>91 rows × 19 columns</p>\n",
       "</div>"
      ],
      "text/plain": [
       "                 PRECTOT      PS   QV2M    T2M  T2MDEW  T2MWET  T2M_MAX  \\\n",
       "fips date                                                                 \n",
       "1001 2000-01-01     0.22  100.51   9.65  14.74   13.51   13.51    20.96   \n",
       "     2000-01-02     0.20  100.55  10.42  16.69   14.71   14.71    22.80   \n",
       "     2000-01-03     3.65  100.15  11.76  18.49   16.52   16.52    22.73   \n",
       "     2000-01-04    15.95  100.29   6.42  11.40    6.09    6.10    18.09   \n",
       "     2000-01-05     0.00  101.15   2.95   3.86   -3.29   -3.20    10.82   \n",
       "...                  ...     ...    ...    ...     ...     ...      ...   \n",
       "     2000-03-27     4.08   98.90   8.91  14.53   11.78   11.78    22.22   \n",
       "     2000-03-28     0.00   99.07   7.46  14.58    9.10    9.10    24.09   \n",
       "     2000-03-29     1.77   99.65   8.12  14.82   10.34   10.35    21.28   \n",
       "     2000-03-30     7.52   99.52  11.90  19.60   16.55   16.54    26.70   \n",
       "     2000-03-31     0.14  100.14   8.85  17.07   12.09   12.09    25.05   \n",
       "\n",
       "                 T2M_MIN  T2M_RANGE     TS  WS10M  WS10M_MAX  WS10M_MIN  \\\n",
       "fips date                                                                 \n",
       "1001 2000-01-01    11.46       9.50  14.65   2.20       2.94       1.49   \n",
       "     2000-01-02    12.61      10.18  16.60   2.52       3.43       1.83   \n",
       "     2000-01-03    15.32       7.41  18.41   4.03       5.33       2.66   \n",
       "     2000-01-04     2.16      15.92  11.31   3.84       5.67       2.08   \n",
       "     2000-01-05    -2.66      13.48   2.65   1.60       2.50       0.52   \n",
       "...                  ...        ...    ...    ...        ...        ...   \n",
       "     2000-03-27     7.08      15.14  14.54   2.58       4.73       1.41   \n",
       "     2000-03-28     5.37      18.71  14.53   2.97       5.13       1.60   \n",
       "     2000-03-29     8.17      13.11  14.89   1.84       2.67       0.89   \n",
       "     2000-03-30    13.35      13.35  19.65   2.18       3.20       1.02   \n",
       "     2000-03-31     9.47      15.58  17.03   1.70       2.10       1.15   \n",
       "\n",
       "                 WS10M_RANGE  WS50M  WS50M_MAX  WS50M_MIN  WS50M_RANGE   score  \n",
       "fips date                                                                       \n",
       "1001 2000-01-01         1.46   4.85       6.04       3.23         2.81     NaN  \n",
       "     2000-01-02         1.60   5.33       6.13       3.72         2.41     NaN  \n",
       "     2000-01-03         2.67   7.53       9.52       5.87         3.66     NaN  \n",
       "     2000-01-04         3.59   6.73       9.31       3.74         5.58  1.0000  \n",
       "     2000-01-05         1.98   2.94       4.85       0.65         4.19     NaN  \n",
       "...                      ...    ...        ...        ...          ...     ...  \n",
       "     2000-03-27         3.32   5.12       7.62       2.72         4.91     NaN  \n",
       "     2000-03-28         3.53   5.80       8.68       3.52         5.16  1.2818  \n",
       "     2000-03-29         1.78   3.64       5.34       1.90         3.45     NaN  \n",
       "     2000-03-30         2.18   4.31       6.42       1.64         4.78     NaN  \n",
       "     2000-03-31         0.96   3.40       4.96       2.05         2.90     NaN  \n",
       "\n",
       "[91 rows x 19 columns]"
      ]
     },
     "execution_count": 46,
     "metadata": {},
     "output_type": "execute_result"
    }
   ],
   "source": [
    "dfs['train'].head(91)\n"
   ]
  },
  {
   "cell_type": "code",
   "execution_count": 32,
   "metadata": {},
   "outputs": [
    {
     "data": {
      "application/vnd.jupyter.widget-view+json": {
       "model_id": "15a7e54e6d314341889c0d33d397eb0d",
       "version_major": 2,
       "version_minor": 0
      },
      "text/plain": [
       "HBox(children=(FloatProgress(value=0.0, max=3108.0), HTML(value='')))"
      ]
     },
     "metadata": {},
     "output_type": "display_data"
    },
    {
     "name": "stdout",
     "output_type": "stream",
     "text": [
      "\n"
     ]
    }
   ],
   "source": [
    "X_static_train, X_time_train, y_past_train, y_target_train = loadXY(dfs['train'], window_size=90, target_size=1)"
   ]
  },
  {
   "cell_type": "code",
   "execution_count": 44,
   "metadata": {},
   "outputs": [
    {
     "data": {
      "text/plain": [
       "array([  0.14, 100.14,   8.85,  17.07,  12.09,  12.09,  25.05,   9.47,\n",
       "        15.58,  17.03,   1.7 ,   2.1 ,   1.15,   0.96,   3.4 ,   4.96,\n",
       "         2.05,   2.9 ])"
      ]
     },
     "execution_count": 44,
     "metadata": {},
     "output_type": "execute_result"
    }
   ],
   "source": [
    "X_time_train[0][-1]"
   ]
  },
  {
   "cell_type": "code",
   "execution_count": 36,
   "metadata": {},
   "outputs": [
    {
     "data": {
      "text/plain": [
       "array([1.])"
      ]
     },
     "execution_count": 36,
     "metadata": {},
     "output_type": "execute_result"
    }
   ],
   "source": [
    "y_target_train[0]"
   ]
  },
  {
   "cell_type": "code",
   "execution_count": 1,
   "metadata": {},
   "outputs": [
    {
     "name": "stdout",
     "output_type": "stream",
     "text": [
      "Requirement already satisfied: sktime in /home/korbinian/.local/lib/python3.8/site-packages (0.6.1)\n",
      "Requirement already satisfied: wheel in /home/korbinian/.local/lib/python3.8/site-packages (from sktime) (0.36.2)\n",
      "Requirement already satisfied: pandas>=1.1.0 in /home/korbinian/.local/lib/python3.8/site-packages (from sktime) (1.1.4)\n",
      "Requirement already satisfied: numba>=0.50 in /home/korbinian/.local/lib/python3.8/site-packages (from sktime) (0.53.1)\n",
      "Requirement already satisfied: scikit-learn>=0.24.0 in /home/korbinian/.local/lib/python3.8/site-packages (from sktime) (0.24.2)\n",
      "Requirement already satisfied: numpy>=1.19.0 in /home/korbinian/.local/lib/python3.8/site-packages (from sktime) (1.20.3)\n",
      "Requirement already satisfied: statsmodels>=0.12.1 in /home/korbinian/.local/lib/python3.8/site-packages (from sktime) (0.12.1)\n",
      "Requirement already satisfied: llvmlite<0.37,>=0.36.0rc1 in /home/korbinian/.local/lib/python3.8/site-packages (from numba>=0.50->sktime) (0.36.0)\n",
      "Requirement already satisfied: setuptools in /home/korbinian/.local/lib/python3.8/site-packages (from numba>=0.50->sktime) (56.2.0)\n",
      "Requirement already satisfied: pytz>=2017.2 in /home/korbinian/miniconda3/lib/python3.8/site-packages (from pandas>=1.1.0->sktime) (2021.1)\n",
      "Requirement already satisfied: python-dateutil>=2.7.3 in /home/korbinian/miniconda3/lib/python3.8/site-packages (from pandas>=1.1.0->sktime) (2.8.1)\n",
      "Requirement already satisfied: six>=1.5 in /home/korbinian/.local/lib/python3.8/site-packages (from python-dateutil>=2.7.3->pandas>=1.1.0->sktime) (1.15.0)\n",
      "Requirement already satisfied: scipy>=0.19.1 in /home/korbinian/.local/lib/python3.8/site-packages (from scikit-learn>=0.24.0->sktime) (1.4.1)\n",
      "Requirement already satisfied: threadpoolctl>=2.0.0 in /home/korbinian/miniconda3/lib/python3.8/site-packages (from scikit-learn>=0.24.0->sktime) (2.1.0)\n",
      "Requirement already satisfied: joblib>=0.11 in /home/korbinian/miniconda3/lib/python3.8/site-packages (from scikit-learn>=0.24.0->sktime) (1.0.1)\n",
      "Requirement already satisfied: patsy>=0.5 in /home/korbinian/.local/lib/python3.8/site-packages (from statsmodels>=0.12.1->sktime) (0.5.1)\n"
     ]
    }
   ],
   "source": [
    "!pip install sktime"
   ]
  },
  {
   "cell_type": "code",
   "execution_count": 47,
   "metadata": {},
   "outputs": [],
   "source": [
    "import numpy as np\n",
    "from sklearn.linear_model import RidgeClassifierCV\n",
    "from sklearn.pipeline import make_pipeline\n",
    "\n",
    "from sktime.datasets import load_arrow_head  # univariate dataset\n",
    "from sktime.datasets.base import load_basic_motions  # multivariate dataset\n",
    "from sktime.transformations.panel.rocket import MiniRocket, MiniRocketMultivariate"
   ]
  },
  {
   "cell_type": "code",
   "execution_count": null,
   "metadata": {},
   "outputs": [],
   "source": [
    "minirocket_multi = MiniRocketMultivariate()\n",
    "minirocket_multi.fit(X_time_train)\n",
    "X_train_transform = minirocket_multi.transform(X_time_train)"
   ]
  },
  {
   "cell_type": "code",
   "execution_count": null,
   "metadata": {},
   "outputs": [],
   "source": [
    "X_train_transform"
   ]
  },
  {
   "cell_type": "code",
   "execution_count": null,
   "metadata": {},
   "outputs": [],
   "source": [
    "classifier = RidgeClassifierCV(alphas=np.logspace(-3, 3, 10), normalize=True)\n",
    "classifier.fit(X_train_transform, y_train)"
   ]
  },
  {
   "cell_type": "code",
   "execution_count": null,
   "metadata": {},
   "outputs": [],
   "source": [
    "X_static_valid, X_time_valid, y_past_valid, y_target_valid = loadXY(dfs['valid'], window_size=90, target_size=1)"
   ]
  },
  {
   "cell_type": "code",
   "execution_count": null,
   "metadata": {},
   "outputs": [],
   "source": [
    "X_valid_transform = minirocket_multi.transform(X_time_valid)"
   ]
  },
  {
   "cell_type": "code",
   "execution_count": null,
   "metadata": {},
   "outputs": [],
   "source": [
    "classifier.score(X_valid_transform, y_target_valid)"
   ]
  },
  {
   "cell_type": "code",
   "execution_count": null,
   "metadata": {},
   "outputs": [],
   "source": []
  }
 ],
 "metadata": {
  "kernelspec": {
   "display_name": "Python 3",
   "language": "python",
   "name": "python3"
  },
  "language_info": {
   "codemirror_mode": {
    "name": "ipython",
    "version": 3
   },
   "file_extension": ".py",
   "mimetype": "text/x-python",
   "name": "python",
   "nbconvert_exporter": "python",
   "pygments_lexer": "ipython3",
   "version": "3.8.10"
  }
 },
 "nbformat": 4,
 "nbformat_minor": 4
}
