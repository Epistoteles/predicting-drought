{
 "cells": [
  {
   "cell_type": "markdown",
   "metadata": {},
   "source": [
    "# US Drought & Meteorological Data"
   ]
  },
  {
   "cell_type": "markdown",
   "metadata": {},
   "source": [
    "## Loading the training data\n",
    "In this section, we load the training and validation data into numpy arrays."
   ]
  },
  {
   "cell_type": "markdown",
   "metadata": {},
   "source": [
    "We load the csv file paths for training, validation and testing into the ``files`` dictionary."
   ]
  },
  {
   "cell_type": "code",
   "execution_count": 1,
   "metadata": {
    "_kg_hide-input": false
   },
   "outputs": [
    {
     "name": "stdout",
     "output_type": "stream",
     "text": [
      "{'test': './test_timeseries.csv', 'train': './train_timeseries.csv', 'valid': './validation_timeseries.csv'}\n"
     ]
    }
   ],
   "source": [
    "import numpy as np\n",
    "import pandas as pd\n",
    "import json\n",
    "import os\n",
    "import matplotlib.pyplot as plt\n",
    "import seaborn as sns\n",
    "from tqdm.auto import tqdm\n",
    "from datetime import datetime\n",
    "sns.set_style('white')\n",
    "\n",
    "files = {}\n",
    "\n",
    "for dirname, _, filenames in os.walk('.'):\n",
    "    for filename in filenames:\n",
    "        if 'train' in filename:\n",
    "            files['train'] = os.path.join(dirname, filename)\n",
    "        if 'valid' in filename:\n",
    "            files['valid'] = os.path.join(dirname, filename)\n",
    "        if 'test' in filename:\n",
    "            files['test'] = os.path.join(dirname, filename)\n",
    "            \n",
    "print(files)"
   ]
  },
  {
   "cell_type": "markdown",
   "metadata": {},
   "source": [
    "The following classes exist, ranging from no drought (``None``), to extreme drought (``D4``).\n",
    "This could be treated as a regression, ordinal or classification problem, but for now we will treat it as 5 distinct classes."
   ]
  },
  {
   "cell_type": "code",
   "execution_count": 2,
   "metadata": {
    "_kg_hide-input": true
   },
   "outputs": [],
   "source": [
    "class2id = {\n",
    "    'None': 0,\n",
    "    'D0': 1,\n",
    "    'D1': 2,\n",
    "    'D2': 3,\n",
    "    'D3': 4,\n",
    "    'D4': 5,\n",
    "}\n",
    "id2class = {v: k for k, v in class2id.items()}"
   ]
  },
  {
   "cell_type": "markdown",
   "metadata": {},
   "source": [
    "Now we'll define a helper method to load the datasets. This just walks through the json and discards the few samples that are corrupted."
   ]
  },
  {
   "cell_type": "code",
   "execution_count": 3,
   "metadata": {},
   "outputs": [],
   "source": [
    "dfs = {\n",
    "    k: pd.read_csv(files[k]).set_index(['fips', 'date'])\n",
    "    for k in files.keys()\n",
    "}"
   ]
  },
  {
   "cell_type": "code",
   "execution_count": 4,
   "metadata": {},
   "outputs": [],
   "source": [
    "import numpy as np\n",
    "from scipy.interpolate import interp1d\n",
    "\n",
    "def interpolate_nans(padata, pkind='linear'):\n",
    "    \"\"\"\n",
    "    see: https://stackoverflow.com/a/53050216/2167159\n",
    "    \"\"\"\n",
    "    aindexes = np.arange(padata.shape[0])\n",
    "    agood_indexes, = np.where(np.isfinite(padata))\n",
    "    f = interp1d(agood_indexes\n",
    "               , padata[agood_indexes]\n",
    "               , bounds_error=False\n",
    "               , copy=False\n",
    "               , fill_value=\"extrapolate\"\n",
    "               , kind=pkind)\n",
    "    return f(aindexes)"
   ]
  },
  {
   "cell_type": "code",
   "execution_count": 5,
   "metadata": {},
   "outputs": [],
   "source": [
    "def loadXY(df, shuffle=True, random_state=42, window_size=90, target_size=1):\n",
    "    \"\"\"\n",
    "    TODO()\n",
    "    \"\"\"\n",
    "    soil_df = pd.read_csv('soil_data.csv')\n",
    "    time_data_cols = sorted([c for c in df.columns if c not in ['fips','date','score']])\n",
    "    static_data_cols = sorted([c for c in soil_df.columns if c not in ['soil','lat','lon']])\n",
    "    count = 0\n",
    "    score_df = df.dropna(subset=['score'])\n",
    "    X_static = np.empty((len(df)//window_size, len(static_data_cols)))\n",
    "    X_time = np.empty((len(df)//window_size, window_size, len(time_data_cols)))\n",
    "    y_past = np.empty((len(df)//window_size, window_size))\n",
    "    y_target = np.empty((len(df)//window_size, target_size))\n",
    "    for fips in tqdm(score_df.index.get_level_values(0).unique()):\n",
    "        start_i = 0 #np.random.randint(1, window_size)\n",
    "        fips_df = df[(df.index.get_level_values(0)==fips)]\n",
    "        X = fips_df[time_data_cols].values\n",
    "        y = fips_df['score'].values\n",
    "        X_s = soil_df[soil_df['fips']==fips][static_data_cols].values[0]\n",
    "        for i in range(start_i, len(y)-(window_size+target_size*7), window_size):\n",
    "            X_time[count] = X[i:i+window_size]\n",
    "            y_past[count] = interpolate_nans(y[i:i+window_size])\n",
    "            temp_y = y[i+window_size:i+window_size+target_size*7]\n",
    "            y_target[count] = np.array(temp_y[~np.isnan(temp_y)][:target_size])\n",
    "            X_static[count] = X_s\n",
    "            count += 1\n",
    "    return X_static[:count], X_time[:count], y_past[:count], y_target[:count]"
   ]
  },
  {
   "cell_type": "markdown",
   "metadata": {},
   "source": [
    "The following are the first 60 days of the first county (1001). As you can see, drought data (last column ``score``) is only provided for on a weekly basis. It will be filled in by our interpolation function defined above."
   ]
  },
  {
   "cell_type": "code",
   "execution_count": 6,
   "metadata": {
    "scrolled": true
   },
   "outputs": [
    {
     "data": {
      "text/html": [
       "<div>\n",
       "<style scoped>\n",
       "    .dataframe tbody tr th:only-of-type {\n",
       "        vertical-align: middle;\n",
       "    }\n",
       "\n",
       "    .dataframe tbody tr th {\n",
       "        vertical-align: top;\n",
       "    }\n",
       "\n",
       "    .dataframe thead th {\n",
       "        text-align: right;\n",
       "    }\n",
       "</style>\n",
       "<table border=\"1\" class=\"dataframe\">\n",
       "  <thead>\n",
       "    <tr style=\"text-align: right;\">\n",
       "      <th></th>\n",
       "      <th></th>\n",
       "      <th>PRECTOT</th>\n",
       "      <th>PS</th>\n",
       "      <th>QV2M</th>\n",
       "      <th>T2M</th>\n",
       "      <th>T2MDEW</th>\n",
       "      <th>T2MWET</th>\n",
       "      <th>T2M_MAX</th>\n",
       "      <th>T2M_MIN</th>\n",
       "      <th>T2M_RANGE</th>\n",
       "      <th>TS</th>\n",
       "      <th>WS10M</th>\n",
       "      <th>WS10M_MAX</th>\n",
       "      <th>WS10M_MIN</th>\n",
       "      <th>WS10M_RANGE</th>\n",
       "      <th>WS50M</th>\n",
       "      <th>WS50M_MAX</th>\n",
       "      <th>WS50M_MIN</th>\n",
       "      <th>WS50M_RANGE</th>\n",
       "      <th>score</th>\n",
       "    </tr>\n",
       "    <tr>\n",
       "      <th>fips</th>\n",
       "      <th>date</th>\n",
       "      <th></th>\n",
       "      <th></th>\n",
       "      <th></th>\n",
       "      <th></th>\n",
       "      <th></th>\n",
       "      <th></th>\n",
       "      <th></th>\n",
       "      <th></th>\n",
       "      <th></th>\n",
       "      <th></th>\n",
       "      <th></th>\n",
       "      <th></th>\n",
       "      <th></th>\n",
       "      <th></th>\n",
       "      <th></th>\n",
       "      <th></th>\n",
       "      <th></th>\n",
       "      <th></th>\n",
       "      <th></th>\n",
       "    </tr>\n",
       "  </thead>\n",
       "  <tbody>\n",
       "    <tr>\n",
       "      <th rowspan=\"11\" valign=\"top\">1001</th>\n",
       "      <th>2000-01-01</th>\n",
       "      <td>0.22</td>\n",
       "      <td>100.51</td>\n",
       "      <td>9.65</td>\n",
       "      <td>14.74</td>\n",
       "      <td>13.51</td>\n",
       "      <td>13.51</td>\n",
       "      <td>20.96</td>\n",
       "      <td>11.46</td>\n",
       "      <td>9.50</td>\n",
       "      <td>14.65</td>\n",
       "      <td>2.20</td>\n",
       "      <td>2.94</td>\n",
       "      <td>1.49</td>\n",
       "      <td>1.46</td>\n",
       "      <td>4.85</td>\n",
       "      <td>6.04</td>\n",
       "      <td>3.23</td>\n",
       "      <td>2.81</td>\n",
       "      <td>NaN</td>\n",
       "    </tr>\n",
       "    <tr>\n",
       "      <th>2000-01-02</th>\n",
       "      <td>0.20</td>\n",
       "      <td>100.55</td>\n",
       "      <td>10.42</td>\n",
       "      <td>16.69</td>\n",
       "      <td>14.71</td>\n",
       "      <td>14.71</td>\n",
       "      <td>22.80</td>\n",
       "      <td>12.61</td>\n",
       "      <td>10.18</td>\n",
       "      <td>16.60</td>\n",
       "      <td>2.52</td>\n",
       "      <td>3.43</td>\n",
       "      <td>1.83</td>\n",
       "      <td>1.60</td>\n",
       "      <td>5.33</td>\n",
       "      <td>6.13</td>\n",
       "      <td>3.72</td>\n",
       "      <td>2.41</td>\n",
       "      <td>NaN</td>\n",
       "    </tr>\n",
       "    <tr>\n",
       "      <th>2000-01-03</th>\n",
       "      <td>3.65</td>\n",
       "      <td>100.15</td>\n",
       "      <td>11.76</td>\n",
       "      <td>18.49</td>\n",
       "      <td>16.52</td>\n",
       "      <td>16.52</td>\n",
       "      <td>22.73</td>\n",
       "      <td>15.32</td>\n",
       "      <td>7.41</td>\n",
       "      <td>18.41</td>\n",
       "      <td>4.03</td>\n",
       "      <td>5.33</td>\n",
       "      <td>2.66</td>\n",
       "      <td>2.67</td>\n",
       "      <td>7.53</td>\n",
       "      <td>9.52</td>\n",
       "      <td>5.87</td>\n",
       "      <td>3.66</td>\n",
       "      <td>NaN</td>\n",
       "    </tr>\n",
       "    <tr>\n",
       "      <th>2000-01-04</th>\n",
       "      <td>15.95</td>\n",
       "      <td>100.29</td>\n",
       "      <td>6.42</td>\n",
       "      <td>11.40</td>\n",
       "      <td>6.09</td>\n",
       "      <td>6.10</td>\n",
       "      <td>18.09</td>\n",
       "      <td>2.16</td>\n",
       "      <td>15.92</td>\n",
       "      <td>11.31</td>\n",
       "      <td>3.84</td>\n",
       "      <td>5.67</td>\n",
       "      <td>2.08</td>\n",
       "      <td>3.59</td>\n",
       "      <td>6.73</td>\n",
       "      <td>9.31</td>\n",
       "      <td>3.74</td>\n",
       "      <td>5.58</td>\n",
       "      <td>1.0000</td>\n",
       "    </tr>\n",
       "    <tr>\n",
       "      <th>2000-01-05</th>\n",
       "      <td>0.00</td>\n",
       "      <td>101.15</td>\n",
       "      <td>2.95</td>\n",
       "      <td>3.86</td>\n",
       "      <td>-3.29</td>\n",
       "      <td>-3.20</td>\n",
       "      <td>10.82</td>\n",
       "      <td>-2.66</td>\n",
       "      <td>13.48</td>\n",
       "      <td>2.65</td>\n",
       "      <td>1.60</td>\n",
       "      <td>2.50</td>\n",
       "      <td>0.52</td>\n",
       "      <td>1.98</td>\n",
       "      <td>2.94</td>\n",
       "      <td>4.85</td>\n",
       "      <td>0.65</td>\n",
       "      <td>4.19</td>\n",
       "      <td>NaN</td>\n",
       "    </tr>\n",
       "    <tr>\n",
       "      <th>...</th>\n",
       "      <td>...</td>\n",
       "      <td>...</td>\n",
       "      <td>...</td>\n",
       "      <td>...</td>\n",
       "      <td>...</td>\n",
       "      <td>...</td>\n",
       "      <td>...</td>\n",
       "      <td>...</td>\n",
       "      <td>...</td>\n",
       "      <td>...</td>\n",
       "      <td>...</td>\n",
       "      <td>...</td>\n",
       "      <td>...</td>\n",
       "      <td>...</td>\n",
       "      <td>...</td>\n",
       "      <td>...</td>\n",
       "      <td>...</td>\n",
       "      <td>...</td>\n",
       "      <td>...</td>\n",
       "    </tr>\n",
       "    <tr>\n",
       "      <th>2000-03-26</th>\n",
       "      <td>2.92</td>\n",
       "      <td>99.85</td>\n",
       "      <td>10.45</td>\n",
       "      <td>17.14</td>\n",
       "      <td>14.63</td>\n",
       "      <td>14.63</td>\n",
       "      <td>22.80</td>\n",
       "      <td>13.44</td>\n",
       "      <td>9.35</td>\n",
       "      <td>16.98</td>\n",
       "      <td>1.55</td>\n",
       "      <td>2.00</td>\n",
       "      <td>0.67</td>\n",
       "      <td>1.33</td>\n",
       "      <td>3.37</td>\n",
       "      <td>5.32</td>\n",
       "      <td>1.13</td>\n",
       "      <td>4.19</td>\n",
       "      <td>NaN</td>\n",
       "    </tr>\n",
       "    <tr>\n",
       "      <th>2000-03-27</th>\n",
       "      <td>4.08</td>\n",
       "      <td>98.90</td>\n",
       "      <td>8.91</td>\n",
       "      <td>14.53</td>\n",
       "      <td>11.78</td>\n",
       "      <td>11.78</td>\n",
       "      <td>22.22</td>\n",
       "      <td>7.08</td>\n",
       "      <td>15.14</td>\n",
       "      <td>14.54</td>\n",
       "      <td>2.58</td>\n",
       "      <td>4.73</td>\n",
       "      <td>1.41</td>\n",
       "      <td>3.32</td>\n",
       "      <td>5.12</td>\n",
       "      <td>7.62</td>\n",
       "      <td>2.72</td>\n",
       "      <td>4.91</td>\n",
       "      <td>NaN</td>\n",
       "    </tr>\n",
       "    <tr>\n",
       "      <th>2000-03-28</th>\n",
       "      <td>0.00</td>\n",
       "      <td>99.07</td>\n",
       "      <td>7.46</td>\n",
       "      <td>14.58</td>\n",
       "      <td>9.10</td>\n",
       "      <td>9.10</td>\n",
       "      <td>24.09</td>\n",
       "      <td>5.37</td>\n",
       "      <td>18.71</td>\n",
       "      <td>14.53</td>\n",
       "      <td>2.97</td>\n",
       "      <td>5.13</td>\n",
       "      <td>1.60</td>\n",
       "      <td>3.53</td>\n",
       "      <td>5.80</td>\n",
       "      <td>8.68</td>\n",
       "      <td>3.52</td>\n",
       "      <td>5.16</td>\n",
       "      <td>1.2818</td>\n",
       "    </tr>\n",
       "    <tr>\n",
       "      <th>2000-03-29</th>\n",
       "      <td>1.77</td>\n",
       "      <td>99.65</td>\n",
       "      <td>8.12</td>\n",
       "      <td>14.82</td>\n",
       "      <td>10.34</td>\n",
       "      <td>10.35</td>\n",
       "      <td>21.28</td>\n",
       "      <td>8.17</td>\n",
       "      <td>13.11</td>\n",
       "      <td>14.89</td>\n",
       "      <td>1.84</td>\n",
       "      <td>2.67</td>\n",
       "      <td>0.89</td>\n",
       "      <td>1.78</td>\n",
       "      <td>3.64</td>\n",
       "      <td>5.34</td>\n",
       "      <td>1.90</td>\n",
       "      <td>3.45</td>\n",
       "      <td>NaN</td>\n",
       "    </tr>\n",
       "    <tr>\n",
       "      <th>2000-03-30</th>\n",
       "      <td>7.52</td>\n",
       "      <td>99.52</td>\n",
       "      <td>11.90</td>\n",
       "      <td>19.60</td>\n",
       "      <td>16.55</td>\n",
       "      <td>16.54</td>\n",
       "      <td>26.70</td>\n",
       "      <td>13.35</td>\n",
       "      <td>13.35</td>\n",
       "      <td>19.65</td>\n",
       "      <td>2.18</td>\n",
       "      <td>3.20</td>\n",
       "      <td>1.02</td>\n",
       "      <td>2.18</td>\n",
       "      <td>4.31</td>\n",
       "      <td>6.42</td>\n",
       "      <td>1.64</td>\n",
       "      <td>4.78</td>\n",
       "      <td>NaN</td>\n",
       "    </tr>\n",
       "  </tbody>\n",
       "</table>\n",
       "<p>90 rows × 19 columns</p>\n",
       "</div>"
      ],
      "text/plain": [
       "                 PRECTOT      PS   QV2M    T2M  T2MDEW  T2MWET  T2M_MAX  \\\n",
       "fips date                                                                 \n",
       "1001 2000-01-01     0.22  100.51   9.65  14.74   13.51   13.51    20.96   \n",
       "     2000-01-02     0.20  100.55  10.42  16.69   14.71   14.71    22.80   \n",
       "     2000-01-03     3.65  100.15  11.76  18.49   16.52   16.52    22.73   \n",
       "     2000-01-04    15.95  100.29   6.42  11.40    6.09    6.10    18.09   \n",
       "     2000-01-05     0.00  101.15   2.95   3.86   -3.29   -3.20    10.82   \n",
       "...                  ...     ...    ...    ...     ...     ...      ...   \n",
       "     2000-03-26     2.92   99.85  10.45  17.14   14.63   14.63    22.80   \n",
       "     2000-03-27     4.08   98.90   8.91  14.53   11.78   11.78    22.22   \n",
       "     2000-03-28     0.00   99.07   7.46  14.58    9.10    9.10    24.09   \n",
       "     2000-03-29     1.77   99.65   8.12  14.82   10.34   10.35    21.28   \n",
       "     2000-03-30     7.52   99.52  11.90  19.60   16.55   16.54    26.70   \n",
       "\n",
       "                 T2M_MIN  T2M_RANGE     TS  WS10M  WS10M_MAX  WS10M_MIN  \\\n",
       "fips date                                                                 \n",
       "1001 2000-01-01    11.46       9.50  14.65   2.20       2.94       1.49   \n",
       "     2000-01-02    12.61      10.18  16.60   2.52       3.43       1.83   \n",
       "     2000-01-03    15.32       7.41  18.41   4.03       5.33       2.66   \n",
       "     2000-01-04     2.16      15.92  11.31   3.84       5.67       2.08   \n",
       "     2000-01-05    -2.66      13.48   2.65   1.60       2.50       0.52   \n",
       "...                  ...        ...    ...    ...        ...        ...   \n",
       "     2000-03-26    13.44       9.35  16.98   1.55       2.00       0.67   \n",
       "     2000-03-27     7.08      15.14  14.54   2.58       4.73       1.41   \n",
       "     2000-03-28     5.37      18.71  14.53   2.97       5.13       1.60   \n",
       "     2000-03-29     8.17      13.11  14.89   1.84       2.67       0.89   \n",
       "     2000-03-30    13.35      13.35  19.65   2.18       3.20       1.02   \n",
       "\n",
       "                 WS10M_RANGE  WS50M  WS50M_MAX  WS50M_MIN  WS50M_RANGE   score  \n",
       "fips date                                                                       \n",
       "1001 2000-01-01         1.46   4.85       6.04       3.23         2.81     NaN  \n",
       "     2000-01-02         1.60   5.33       6.13       3.72         2.41     NaN  \n",
       "     2000-01-03         2.67   7.53       9.52       5.87         3.66     NaN  \n",
       "     2000-01-04         3.59   6.73       9.31       3.74         5.58  1.0000  \n",
       "     2000-01-05         1.98   2.94       4.85       0.65         4.19     NaN  \n",
       "...                      ...    ...        ...        ...          ...     ...  \n",
       "     2000-03-26         1.33   3.37       5.32       1.13         4.19     NaN  \n",
       "     2000-03-27         3.32   5.12       7.62       2.72         4.91     NaN  \n",
       "     2000-03-28         3.53   5.80       8.68       3.52         5.16  1.2818  \n",
       "     2000-03-29         1.78   3.64       5.34       1.90         3.45     NaN  \n",
       "     2000-03-30         2.18   4.31       6.42       1.64         4.78     NaN  \n",
       "\n",
       "[90 rows x 19 columns]"
      ]
     },
     "execution_count": 6,
     "metadata": {},
     "output_type": "execute_result"
    }
   ],
   "source": [
    "dfs['train'].head(90)"
   ]
  },
  {
   "cell_type": "code",
   "execution_count": 7,
   "metadata": {},
   "outputs": [],
   "source": [
    "WINDOW_SIZE = 90\n",
    "TARGET_SIZE = 1"
   ]
  },
  {
   "cell_type": "code",
   "execution_count": 8,
   "metadata": {},
   "outputs": [
    {
     "data": {
      "application/vnd.jupyter.widget-view+json": {
       "model_id": "7e9832a5f90344889f2276f307f3a32c",
       "version_major": 2,
       "version_minor": 0
      },
      "text/plain": [
       "  0%|          | 0/3108 [00:00<?, ?it/s]"
      ]
     },
     "metadata": {},
     "output_type": "display_data"
    }
   ],
   "source": [
    "X_static_train, X_time_train, _, y_target_train = loadXY(dfs['train'], window_size=WINDOW_SIZE, target_size=TARGET_SIZE)"
   ]
  },
  {
   "cell_type": "code",
   "execution_count": 9,
   "metadata": {
    "scrolled": true
   },
   "outputs": [
    {
     "name": "stdout",
     "output_type": "stream",
     "text": [
      "First line of above data frame:\n",
      "[  0.22 100.51   9.65  14.74  13.51  13.51  20.96  11.46   9.5   14.65\n",
      "   2.2    2.94   1.49   1.46   4.85   6.04   3.23   2.81]\n",
      "...\n",
      "Last line of above data frame:\n",
      "[ 7.52 99.52 11.9  19.6  16.55 16.54 26.7  13.35 13.35 19.65  2.18  3.2\n",
      "  1.02  2.18  4.31  6.42  1.64  4.78]\n",
      "\n",
      "Label to be predicted:\n",
      "[1.]\n"
     ]
    }
   ],
   "source": [
    "print('First line of above data frame:')\n",
    "print(X_time_train[0][0])\n",
    "print('...')\n",
    "print('Last line of above data frame:')\n",
    "print(X_time_train[0][-1])\n",
    "print()\n",
    "print('Label to be predicted:')\n",
    "print(y_target_train[0])"
   ]
  },
  {
   "cell_type": "markdown",
   "metadata": {},
   "source": [
    "## Visualization and reporting functions\n",
    "\n",
    "Here, we define some functions for calculating F1-scores as well as printing a beautiful confusion matrix."
   ]
  },
  {
   "cell_type": "code",
   "execution_count": 10,
   "metadata": {},
   "outputs": [],
   "source": [
    "import seaborn\n",
    "import matplotlib.pyplot as plt\n",
    "from sklearn import metrics\n",
    "import warnings"
   ]
  },
  {
   "cell_type": "markdown",
   "metadata": {},
   "source": [
    "``plot_confusion_matrix()`` plots a seaborn confusion matrix"
   ]
  },
  {
   "cell_type": "code",
   "execution_count": 11,
   "metadata": {},
   "outputs": [],
   "source": [
    "def plot_confusion_matrix(matrix, labels):\n",
    "    plt.figure(1, figsize=(8.7, 7))\n",
    "    ax = seaborn.heatmap(matrix, annot=True, cmap=\"YlGnBu\", vmin=0, vmax=1)\n",
    "    ax.set_xticklabels(labels)\n",
    "    ax.xaxis.tick_top()\n",
    "    ax.xaxis.set_label_position('top') \n",
    "    ax.tick_params(axis='both', which='both', length=0)\n",
    "    ax.set_yticklabels(labels, rotation=90, va=\"center\")\n",
    "    ax.set_xlabel(\"Predicted Label\", labelpad=18, fontdict=dict(weight='bold'))\n",
    "    ax.set_ylabel(\"True Label\", labelpad=15, fontdict=dict(weight='bold'))\n",
    "    colorax = plt.gcf().axes[-1]\n",
    "    colorax.tick_params(length=0)\n",
    "    plt.show()"
   ]
  },
  {
   "cell_type": "markdown",
   "metadata": {},
   "source": [
    "``summarize()`` prints the confusion matriz and the different f1-scores"
   ]
  },
  {
   "cell_type": "code",
   "execution_count": 12,
   "metadata": {},
   "outputs": [],
   "source": [
    "def summarize(y_true, y_pred, round_and_int=True):\n",
    "    warnings.filterwarnings('ignore')\n",
    "    labels = [\"None\", \"D0\", \"D1\", \"D2\", \"D3\", \"D4\"]\n",
    "    if round_and_int:\n",
    "        y_true = round_and_intify(y_true)\n",
    "        y_pred = round_and_intify(y_pred)\n",
    "    matrix = metrics.confusion_matrix(y_true, y_pred, normalize='true')\n",
    "    plot_confusion_matrix(matrix, labels)\n",
    "    print(metrics.classification_report(y_true, y_pred, digits=3)\n",
    "          .replace('precision', '    precision')\n",
    "          .replace('\\n', '\\n    ')\n",
    "          .replace('f1-score', bold('f1-score'))\n",
    "          .replace('   0 ', bold('None '))\n",
    "          .replace('   1 ', bold('  D0 '))\n",
    "          .replace('   2 ', bold('  D1 '))\n",
    "          .replace('   3 ', bold('  D2 '))\n",
    "          .replace('   4 ', bold('  D3 '))\n",
    "          .replace('   5 ', bold('  D4 '))\n",
    "          .replace('       accuracy', bold('(micro avg) acc'))\n",
    "          .replace('macro avg', bold('macro avg'))\n",
    "         )"
   ]
  },
  {
   "cell_type": "markdown",
   "metadata": {},
   "source": [
    "``round_and_intify()`` rounds interpolated drought values like 1.21 into clean integers between 0 and 5."
   ]
  },
  {
   "cell_type": "code",
   "execution_count": 13,
   "metadata": {},
   "outputs": [],
   "source": [
    "def round_and_intify(y):\n",
    "    return np.clip(np.squeeze(y).round().astype('int'), 0, 5)"
   ]
  },
  {
   "cell_type": "markdown",
   "metadata": {},
   "source": [
    "``bold()`` surrounds a string in **boldness** modifiers for printing"
   ]
  },
  {
   "cell_type": "code",
   "execution_count": 14,
   "metadata": {},
   "outputs": [],
   "source": [
    "def bold(string):\n",
    "    return f'\\033[1m{string}\\033[0m'"
   ]
  },
  {
   "cell_type": "markdown",
   "metadata": {},
   "source": [
    "## Transforming with ROCKET\n",
    "\n",
    "Here, we transform our time series with some convolutional kernels using MiniROCKET.\n",
    "\n",
    "ROCKET produces ~10.000 values for each time series, not matter its length.\n",
    "\n",
    "The ``fit()`` function name is misleading, as ROCKET needs **no training at all**. It merely adjusts it for the multivariate dimensions."
   ]
  },
  {
   "cell_type": "code",
   "execution_count": 15,
   "metadata": {},
   "outputs": [
    {
     "data": {
      "text/plain": [
       "MiniRocketMultivariate()"
      ]
     },
     "execution_count": 15,
     "metadata": {},
     "output_type": "execute_result"
    }
   ],
   "source": [
    "import numpy as np\n",
    "from sktime.transformations.panel.rocket import MiniRocketMultivariate\n",
    "\n",
    "minirocket_multi = MiniRocketMultivariate()\n",
    "minirocket_multi.fit(X_time_train)"
   ]
  },
  {
   "cell_type": "code",
   "execution_count": 16,
   "metadata": {},
   "outputs": [
    {
     "data": {
      "text/html": [
       "<div>\n",
       "<style scoped>\n",
       "    .dataframe tbody tr th:only-of-type {\n",
       "        vertical-align: middle;\n",
       "    }\n",
       "\n",
       "    .dataframe tbody tr th {\n",
       "        vertical-align: top;\n",
       "    }\n",
       "\n",
       "    .dataframe thead th {\n",
       "        text-align: right;\n",
       "    }\n",
       "</style>\n",
       "<table border=\"1\" class=\"dataframe\">\n",
       "  <thead>\n",
       "    <tr style=\"text-align: right;\">\n",
       "      <th></th>\n",
       "      <th>0</th>\n",
       "      <th>1</th>\n",
       "      <th>2</th>\n",
       "      <th>3</th>\n",
       "      <th>4</th>\n",
       "      <th>5</th>\n",
       "      <th>6</th>\n",
       "      <th>7</th>\n",
       "      <th>8</th>\n",
       "      <th>9</th>\n",
       "      <th>...</th>\n",
       "      <th>9986</th>\n",
       "      <th>9987</th>\n",
       "      <th>9988</th>\n",
       "      <th>9989</th>\n",
       "      <th>9990</th>\n",
       "      <th>9991</th>\n",
       "      <th>9992</th>\n",
       "      <th>9993</th>\n",
       "      <th>9994</th>\n",
       "      <th>9995</th>\n",
       "    </tr>\n",
       "  </thead>\n",
       "  <tbody>\n",
       "    <tr>\n",
       "      <th>0</th>\n",
       "      <td>0.277778</td>\n",
       "      <td>0.722222</td>\n",
       "      <td>0.166667</td>\n",
       "      <td>0.444444</td>\n",
       "      <td>0.888889</td>\n",
       "      <td>0.166667</td>\n",
       "      <td>0.611111</td>\n",
       "      <td>0.166667</td>\n",
       "      <td>0.388889</td>\n",
       "      <td>0.833333</td>\n",
       "      <td>...</td>\n",
       "      <td>0.333333</td>\n",
       "      <td>0.111111</td>\n",
       "      <td>0.166667</td>\n",
       "      <td>0.833333</td>\n",
       "      <td>0.111111</td>\n",
       "      <td>0.222222</td>\n",
       "      <td>0.833333</td>\n",
       "      <td>0.111111</td>\n",
       "      <td>0.777778</td>\n",
       "      <td>0.111111</td>\n",
       "    </tr>\n",
       "    <tr>\n",
       "      <th>1</th>\n",
       "      <td>0.444444</td>\n",
       "      <td>0.722222</td>\n",
       "      <td>0.277778</td>\n",
       "      <td>0.500000</td>\n",
       "      <td>0.833333</td>\n",
       "      <td>0.388889</td>\n",
       "      <td>0.611111</td>\n",
       "      <td>0.222222</td>\n",
       "      <td>0.444444</td>\n",
       "      <td>0.833333</td>\n",
       "      <td>...</td>\n",
       "      <td>0.277778</td>\n",
       "      <td>0.111111</td>\n",
       "      <td>0.166667</td>\n",
       "      <td>0.833333</td>\n",
       "      <td>0.111111</td>\n",
       "      <td>0.166667</td>\n",
       "      <td>0.833333</td>\n",
       "      <td>0.111111</td>\n",
       "      <td>0.833333</td>\n",
       "      <td>0.111111</td>\n",
       "    </tr>\n",
       "    <tr>\n",
       "      <th>2</th>\n",
       "      <td>0.388889</td>\n",
       "      <td>0.722222</td>\n",
       "      <td>0.333333</td>\n",
       "      <td>0.555556</td>\n",
       "      <td>0.833333</td>\n",
       "      <td>0.388889</td>\n",
       "      <td>0.666667</td>\n",
       "      <td>0.222222</td>\n",
       "      <td>0.500000</td>\n",
       "      <td>0.833333</td>\n",
       "      <td>...</td>\n",
       "      <td>0.222222</td>\n",
       "      <td>0.111111</td>\n",
       "      <td>0.166667</td>\n",
       "      <td>0.777778</td>\n",
       "      <td>0.166667</td>\n",
       "      <td>0.166667</td>\n",
       "      <td>0.833333</td>\n",
       "      <td>0.166667</td>\n",
       "      <td>0.666667</td>\n",
       "      <td>0.111111</td>\n",
       "    </tr>\n",
       "    <tr>\n",
       "      <th>3</th>\n",
       "      <td>0.388889</td>\n",
       "      <td>0.722222</td>\n",
       "      <td>0.222222</td>\n",
       "      <td>0.555556</td>\n",
       "      <td>0.833333</td>\n",
       "      <td>0.388889</td>\n",
       "      <td>0.722222</td>\n",
       "      <td>0.222222</td>\n",
       "      <td>0.388889</td>\n",
       "      <td>0.833333</td>\n",
       "      <td>...</td>\n",
       "      <td>0.388889</td>\n",
       "      <td>0.111111</td>\n",
       "      <td>0.166667</td>\n",
       "      <td>0.833333</td>\n",
       "      <td>0.111111</td>\n",
       "      <td>0.166667</td>\n",
       "      <td>0.888889</td>\n",
       "      <td>0.166667</td>\n",
       "      <td>0.777778</td>\n",
       "      <td>0.111111</td>\n",
       "    </tr>\n",
       "    <tr>\n",
       "      <th>4</th>\n",
       "      <td>0.166667</td>\n",
       "      <td>0.666667</td>\n",
       "      <td>0.166667</td>\n",
       "      <td>0.222222</td>\n",
       "      <td>1.000000</td>\n",
       "      <td>0.166667</td>\n",
       "      <td>0.611111</td>\n",
       "      <td>0.166667</td>\n",
       "      <td>0.166667</td>\n",
       "      <td>0.722222</td>\n",
       "      <td>...</td>\n",
       "      <td>0.666667</td>\n",
       "      <td>0.111111</td>\n",
       "      <td>0.444444</td>\n",
       "      <td>0.722222</td>\n",
       "      <td>0.166667</td>\n",
       "      <td>0.555556</td>\n",
       "      <td>0.888889</td>\n",
       "      <td>0.222222</td>\n",
       "      <td>0.722222</td>\n",
       "      <td>0.111111</td>\n",
       "    </tr>\n",
       "    <tr>\n",
       "      <th>...</th>\n",
       "      <td>...</td>\n",
       "      <td>...</td>\n",
       "      <td>...</td>\n",
       "      <td>...</td>\n",
       "      <td>...</td>\n",
       "      <td>...</td>\n",
       "      <td>...</td>\n",
       "      <td>...</td>\n",
       "      <td>...</td>\n",
       "      <td>...</td>\n",
       "      <td>...</td>\n",
       "      <td>...</td>\n",
       "      <td>...</td>\n",
       "      <td>...</td>\n",
       "      <td>...</td>\n",
       "      <td>...</td>\n",
       "      <td>...</td>\n",
       "      <td>...</td>\n",
       "      <td>...</td>\n",
       "      <td>...</td>\n",
       "      <td>...</td>\n",
       "    </tr>\n",
       "    <tr>\n",
       "      <th>211339</th>\n",
       "      <td>0.333333</td>\n",
       "      <td>0.666667</td>\n",
       "      <td>0.166667</td>\n",
       "      <td>0.500000</td>\n",
       "      <td>1.000000</td>\n",
       "      <td>0.277778</td>\n",
       "      <td>0.555556</td>\n",
       "      <td>0.055556</td>\n",
       "      <td>0.333333</td>\n",
       "      <td>0.722222</td>\n",
       "      <td>...</td>\n",
       "      <td>0.222222</td>\n",
       "      <td>0.111111</td>\n",
       "      <td>0.166667</td>\n",
       "      <td>0.888889</td>\n",
       "      <td>0.166667</td>\n",
       "      <td>0.166667</td>\n",
       "      <td>0.888889</td>\n",
       "      <td>0.166667</td>\n",
       "      <td>0.888889</td>\n",
       "      <td>0.111111</td>\n",
       "    </tr>\n",
       "    <tr>\n",
       "      <th>211340</th>\n",
       "      <td>0.166667</td>\n",
       "      <td>0.444444</td>\n",
       "      <td>0.166667</td>\n",
       "      <td>0.166667</td>\n",
       "      <td>1.000000</td>\n",
       "      <td>0.166667</td>\n",
       "      <td>0.388889</td>\n",
       "      <td>0.166667</td>\n",
       "      <td>0.166667</td>\n",
       "      <td>0.555556</td>\n",
       "      <td>...</td>\n",
       "      <td>0.666667</td>\n",
       "      <td>0.166667</td>\n",
       "      <td>0.444444</td>\n",
       "      <td>0.944444</td>\n",
       "      <td>0.222222</td>\n",
       "      <td>0.611111</td>\n",
       "      <td>0.944444</td>\n",
       "      <td>0.388889</td>\n",
       "      <td>0.888889</td>\n",
       "      <td>0.222222</td>\n",
       "    </tr>\n",
       "    <tr>\n",
       "      <th>211341</th>\n",
       "      <td>0.166667</td>\n",
       "      <td>0.388889</td>\n",
       "      <td>0.166667</td>\n",
       "      <td>0.222222</td>\n",
       "      <td>1.000000</td>\n",
       "      <td>0.166667</td>\n",
       "      <td>0.388889</td>\n",
       "      <td>0.166667</td>\n",
       "      <td>0.166667</td>\n",
       "      <td>0.611111</td>\n",
       "      <td>...</td>\n",
       "      <td>0.722222</td>\n",
       "      <td>0.166667</td>\n",
       "      <td>0.611111</td>\n",
       "      <td>0.944444</td>\n",
       "      <td>0.333333</td>\n",
       "      <td>0.666667</td>\n",
       "      <td>0.944444</td>\n",
       "      <td>0.444444</td>\n",
       "      <td>0.888889</td>\n",
       "      <td>0.166667</td>\n",
       "    </tr>\n",
       "    <tr>\n",
       "      <th>211342</th>\n",
       "      <td>0.166667</td>\n",
       "      <td>0.666667</td>\n",
       "      <td>0.166667</td>\n",
       "      <td>0.333333</td>\n",
       "      <td>1.000000</td>\n",
       "      <td>0.166667</td>\n",
       "      <td>0.500000</td>\n",
       "      <td>0.166667</td>\n",
       "      <td>0.166667</td>\n",
       "      <td>0.722222</td>\n",
       "      <td>...</td>\n",
       "      <td>0.444444</td>\n",
       "      <td>0.111111</td>\n",
       "      <td>0.277778</td>\n",
       "      <td>1.000000</td>\n",
       "      <td>0.166667</td>\n",
       "      <td>0.444444</td>\n",
       "      <td>1.000000</td>\n",
       "      <td>0.222222</td>\n",
       "      <td>0.888889</td>\n",
       "      <td>0.166667</td>\n",
       "    </tr>\n",
       "    <tr>\n",
       "      <th>211343</th>\n",
       "      <td>0.333333</td>\n",
       "      <td>0.722222</td>\n",
       "      <td>0.111111</td>\n",
       "      <td>0.500000</td>\n",
       "      <td>0.944444</td>\n",
       "      <td>0.277778</td>\n",
       "      <td>0.666667</td>\n",
       "      <td>0.055556</td>\n",
       "      <td>0.388889</td>\n",
       "      <td>0.777778</td>\n",
       "      <td>...</td>\n",
       "      <td>0.222222</td>\n",
       "      <td>0.111111</td>\n",
       "      <td>0.166667</td>\n",
       "      <td>0.888889</td>\n",
       "      <td>0.111111</td>\n",
       "      <td>0.166667</td>\n",
       "      <td>0.888889</td>\n",
       "      <td>0.166667</td>\n",
       "      <td>0.888889</td>\n",
       "      <td>0.111111</td>\n",
       "    </tr>\n",
       "  </tbody>\n",
       "</table>\n",
       "<p>211344 rows × 9996 columns</p>\n",
       "</div>"
      ],
      "text/plain": [
       "            0         1         2         3         4         5         6     \\\n",
       "0       0.277778  0.722222  0.166667  0.444444  0.888889  0.166667  0.611111   \n",
       "1       0.444444  0.722222  0.277778  0.500000  0.833333  0.388889  0.611111   \n",
       "2       0.388889  0.722222  0.333333  0.555556  0.833333  0.388889  0.666667   \n",
       "3       0.388889  0.722222  0.222222  0.555556  0.833333  0.388889  0.722222   \n",
       "4       0.166667  0.666667  0.166667  0.222222  1.000000  0.166667  0.611111   \n",
       "...          ...       ...       ...       ...       ...       ...       ...   \n",
       "211339  0.333333  0.666667  0.166667  0.500000  1.000000  0.277778  0.555556   \n",
       "211340  0.166667  0.444444  0.166667  0.166667  1.000000  0.166667  0.388889   \n",
       "211341  0.166667  0.388889  0.166667  0.222222  1.000000  0.166667  0.388889   \n",
       "211342  0.166667  0.666667  0.166667  0.333333  1.000000  0.166667  0.500000   \n",
       "211343  0.333333  0.722222  0.111111  0.500000  0.944444  0.277778  0.666667   \n",
       "\n",
       "            7         8         9     ...      9986      9987      9988  \\\n",
       "0       0.166667  0.388889  0.833333  ...  0.333333  0.111111  0.166667   \n",
       "1       0.222222  0.444444  0.833333  ...  0.277778  0.111111  0.166667   \n",
       "2       0.222222  0.500000  0.833333  ...  0.222222  0.111111  0.166667   \n",
       "3       0.222222  0.388889  0.833333  ...  0.388889  0.111111  0.166667   \n",
       "4       0.166667  0.166667  0.722222  ...  0.666667  0.111111  0.444444   \n",
       "...          ...       ...       ...  ...       ...       ...       ...   \n",
       "211339  0.055556  0.333333  0.722222  ...  0.222222  0.111111  0.166667   \n",
       "211340  0.166667  0.166667  0.555556  ...  0.666667  0.166667  0.444444   \n",
       "211341  0.166667  0.166667  0.611111  ...  0.722222  0.166667  0.611111   \n",
       "211342  0.166667  0.166667  0.722222  ...  0.444444  0.111111  0.277778   \n",
       "211343  0.055556  0.388889  0.777778  ...  0.222222  0.111111  0.166667   \n",
       "\n",
       "            9989      9990      9991      9992      9993      9994      9995  \n",
       "0       0.833333  0.111111  0.222222  0.833333  0.111111  0.777778  0.111111  \n",
       "1       0.833333  0.111111  0.166667  0.833333  0.111111  0.833333  0.111111  \n",
       "2       0.777778  0.166667  0.166667  0.833333  0.166667  0.666667  0.111111  \n",
       "3       0.833333  0.111111  0.166667  0.888889  0.166667  0.777778  0.111111  \n",
       "4       0.722222  0.166667  0.555556  0.888889  0.222222  0.722222  0.111111  \n",
       "...          ...       ...       ...       ...       ...       ...       ...  \n",
       "211339  0.888889  0.166667  0.166667  0.888889  0.166667  0.888889  0.111111  \n",
       "211340  0.944444  0.222222  0.611111  0.944444  0.388889  0.888889  0.222222  \n",
       "211341  0.944444  0.333333  0.666667  0.944444  0.444444  0.888889  0.166667  \n",
       "211342  1.000000  0.166667  0.444444  1.000000  0.222222  0.888889  0.166667  \n",
       "211343  0.888889  0.111111  0.166667  0.888889  0.166667  0.888889  0.111111  \n",
       "\n",
       "[211344 rows x 9996 columns]"
      ]
     },
     "execution_count": 16,
     "metadata": {},
     "output_type": "execute_result"
    }
   ],
   "source": [
    "X_train = minirocket_multi.transform(X_time_train)\n",
    "X_train"
   ]
  },
  {
   "cell_type": "markdown",
   "metadata": {},
   "source": [
    "As you can see, we now have ~10.000 features per time series.\n",
    "\n",
    "Finally, we concatenate the fixed-size data on soil quality etc. to the ROCKET features. "
   ]
  },
  {
   "cell_type": "code",
   "execution_count": 17,
   "metadata": {},
   "outputs": [
    {
     "name": "stdout",
     "output_type": "stream",
     "text": [
      "(211344, 9996)\n",
      "(211344, 30)\n",
      "(211344, 10026)\n"
     ]
    }
   ],
   "source": [
    "print(X_train.shape)\n",
    "print(X_static_train.shape)\n",
    "\n",
    "X_train = np.concatenate((X_train, X_static_train), axis=1)\n",
    "\n",
    "print(X_train.shape)"
   ]
  },
  {
   "cell_type": "markdown",
   "metadata": {},
   "source": [
    "## Loading the validation data\n",
    "\n",
    "Here we load the validation data and transform the time series data into ROCKET features, just like for the training data.\n",
    "\n",
    "Then, we concatenate the fixed-size data on soil quality etc. to the ROCKET features. "
   ]
  },
  {
   "cell_type": "code",
   "execution_count": 18,
   "metadata": {},
   "outputs": [
    {
     "data": {
      "application/vnd.jupyter.widget-view+json": {
       "model_id": "9d98c177898a4680af949819c9adf6a8",
       "version_major": 2,
       "version_minor": 0
      },
      "text/plain": [
       "  0%|          | 0/3108 [00:00<?, ?it/s]"
      ]
     },
     "metadata": {},
     "output_type": "display_data"
    }
   ],
   "source": [
    "X_static_valid, X_time_valid, _, y_target_valid = loadXY(dfs['valid'], window_size=WINDOW_SIZE, target_size=TARGET_SIZE)\n",
    "X_valid = minirocket_multi.transform(X_time_valid)"
   ]
  },
  {
   "cell_type": "code",
   "execution_count": 19,
   "metadata": {},
   "outputs": [
    {
     "name": "stdout",
     "output_type": "stream",
     "text": [
      "(24864, 9996)\n",
      "(24864, 30)\n",
      "(24864, 10026)\n"
     ]
    }
   ],
   "source": [
    "print(X_valid.shape)\n",
    "print(X_static_valid.shape)\n",
    "\n",
    "X_valid = np.concatenate((X_valid, X_static_valid), axis=1)\n",
    "\n",
    "print(X_valid.shape)"
   ]
  },
  {
   "cell_type": "markdown",
   "metadata": {},
   "source": [
    "## Goal: perfect classification\n",
    "\n",
    "The following is a report that shows perfect classification of our samples. This is the ideal we want to achieve, just so you know what to look for."
   ]
  },
  {
   "cell_type": "code",
   "execution_count": 20,
   "metadata": {
    "scrolled": false
   },
   "outputs": [
    {
     "data": {
      "image/png": "[encoded data removed]",
      "text/plain": [
       "<Figure size 626.4x504 with 2 Axes>"
      ]
     },
     "metadata": {},
     "output_type": "display_data"
    },
    {
     "name": "stdout",
     "output_type": "stream",
     "text": [
      "                  precision    recall  \u001b[1mf1-score\u001b[0m   support\n",
      "    \n",
      "            \u001b[1mNone \u001b[0m     1.000     1.000     1.000     16939\n",
      "            \u001b[1m  D0 \u001b[0m     1.000     1.000     1.000      4570\n",
      "            \u001b[1m  D1 \u001b[0m     1.000     1.000     1.000      2194\n",
      "            \u001b[1m  D2 \u001b[0m     1.000     1.000     1.000       790\n",
      "            \u001b[1m  D3 \u001b[0m     1.000     1.000     1.000       305\n",
      "            \u001b[1m  D4 \u001b[0m     1.000     1.000     1.000        66\n",
      "    \n",
      " \u001b[1m(micro avg) acc\u001b[0m                          1.000     24864\n",
      "       \u001b[1mmacro avg\u001b[0m      1.000     1.000     1.000     24864\n",
      "    weighted avg      1.000     1.000     1.000     24864\n",
      "    \n"
     ]
    }
   ],
   "source": [
    "summarize(y_target_valid, y_target_valid)"
   ]
  },
  {
   "cell_type": "markdown",
   "metadata": {},
   "source": [
    "<div class=\"alert alert-success\">Benchmark I</div>"
   ]
  },
  {
   "cell_type": "markdown",
   "metadata": {},
   "source": [
    "## Random: always predict a random class\n",
    "\n",
    "Here we check what the results are for always predicting a random class between 0 and 5."
   ]
  },
  {
   "cell_type": "code",
   "execution_count": 21,
   "metadata": {},
   "outputs": [
    {
     "data": {
      "image/png": "[encoded data removed]",
      "text/plain": [
       "<Figure size 626.4x504 with 2 Axes>"
      ]
     },
     "metadata": {},
     "output_type": "display_data"
    },
    {
     "name": "stdout",
     "output_type": "stream",
     "text": [
      "                  precision    recall  \u001b[1mf1-score\u001b[0m   support\n",
      "    \n",
      "            \u001b[1mNone \u001b[0m     0.681     0.170     0.271     16939\n",
      "            \u001b[1m  D0 \u001b[0m     0.179     0.163     0.171      4570\n",
      "            \u001b[1m  D1 \u001b[0m     0.093     0.174     0.121      2194\n",
      "            \u001b[1m  D2 \u001b[0m     0.033     0.172     0.056       790\n",
      "            \u001b[1m  D3 \u001b[0m     0.012     0.170     0.023       305\n",
      "            \u001b[1m  D4 \u001b[0m     0.001     0.091     0.003        66\n",
      "    \n",
      " \u001b[1m(micro avg) acc\u001b[0m                          0.169     24864\n",
      "       \u001b[1mmacro avg\u001b[0m      0.167     0.157     0.108     24864\n",
      "    weighted avg      0.506     0.169     0.229     24864\n",
      "    \n"
     ]
    }
   ],
   "source": [
    "summarize(y_target_valid, np.random.randint(6, size=y_target_valid.shape))"
   ]
  },
  {
   "cell_type": "markdown",
   "metadata": {},
   "source": [
    "## Majority class: always predict no drought\n",
    "\n",
    "Here we check what the results are for always predicting the majority class, which is 'no drought' (0)."
   ]
  },
  {
   "cell_type": "code",
   "execution_count": 22,
   "metadata": {},
   "outputs": [
    {
     "data": {
      "image/png": "[encoded data removed]",
      "text/plain": [
       "<Figure size 626.4x504 with 2 Axes>"
      ]
     },
     "metadata": {},
     "output_type": "display_data"
    },
    {
     "name": "stdout",
     "output_type": "stream",
     "text": [
      "                  precision    recall  \u001b[1mf1-score\u001b[0m   support\n",
      "    \n",
      "            \u001b[1mNone \u001b[0m     0.681     1.000     0.810     16939\n",
      "            \u001b[1m  D0 \u001b[0m     0.000     0.000     0.000      4570\n",
      "            \u001b[1m  D1 \u001b[0m     0.000     0.000     0.000      2194\n",
      "            \u001b[1m  D2 \u001b[0m     0.000     0.000     0.000       790\n",
      "            \u001b[1m  D3 \u001b[0m     0.000     0.000     0.000       305\n",
      "            \u001b[1m  D4 \u001b[0m     0.000     0.000     0.000        66\n",
      "    \n",
      " \u001b[1m(micro avg) acc\u001b[0m                          0.681     24864\n",
      "       \u001b[1mmacro avg\u001b[0m      0.114     0.167     0.135     24864\n",
      "    weighted avg      0.464     0.681     0.552     24864\n",
      "    \n"
     ]
    }
   ],
   "source": [
    "summarize(y_target_valid, np.zeros_like(y_target_valid))"
   ]
  },
  {
   "cell_type": "markdown",
   "metadata": {},
   "source": [
    "## Random (stratified): predict a random class based on true priors\n",
    "\n",
    "Here we check what the results are for always predicting a random class between 0 and 5, according to how often they appear."
   ]
  },
  {
   "cell_type": "code",
   "execution_count": 23,
   "metadata": {},
   "outputs": [
    {
     "name": "stdout",
     "output_type": "stream",
     "text": [
      "\u001b[1mTotal\u001b[0m:  211344  (100%)\n",
      "    \u001b[1m0\u001b[0m:  128835  (0.6096%)\n",
      "    \u001b[1m1\u001b[0m:   34325  (0.1624%)\n",
      "    \u001b[1m2\u001b[0m:   21105  (0.0999%)\n",
      "    \u001b[1m3\u001b[0m:   15419  (0.0730%)\n",
      "    \u001b[1m4\u001b[0m:    8640  (0.0409%)\n",
      "    \u001b[1m5\u001b[0m:    3020  (0.0143%)\n"
     ]
    }
   ],
   "source": [
    "total = len(y_target_train)\n",
    "print(f\"{bold('Total')}:  {total}  (100%)\")\n",
    "for x, count in zip(np.unique(round_and_intify(y_target_train), return_counts=True)[0],\n",
    "                    np.unique(round_and_intify(y_target_train), return_counts=True)[1]):\n",
    "    print(f\"    {bold(x)}:  {count:6}  ({count/total:.4f}%)\")"
   ]
  },
  {
   "cell_type": "code",
   "execution_count": 24,
   "metadata": {},
   "outputs": [
    {
     "data": {
      "image/png": "[encoded data removed]",
      "text/plain": [
       "<Figure size 626.4x504 with 2 Axes>"
      ]
     },
     "metadata": {},
     "output_type": "display_data"
    },
    {
     "name": "stdout",
     "output_type": "stream",
     "text": [
      "                  precision    recall  \u001b[1mf1-score\u001b[0m   support\n",
      "    \n",
      "            \u001b[1mNone \u001b[0m     0.686     0.607     0.644     16939\n",
      "            \u001b[1m  D0 \u001b[0m     0.187     0.170     0.178      4570\n",
      "            \u001b[1m  D1 \u001b[0m     0.086     0.104     0.094      2194\n",
      "            \u001b[1m  D2 \u001b[0m     0.031     0.070     0.043       790\n",
      "            \u001b[1m  D3 \u001b[0m     0.009     0.026     0.013       305\n",
      "            \u001b[1m  D4 \u001b[0m     0.000     0.000     0.000        66\n",
      "    \n",
      " \u001b[1m(micro avg) acc\u001b[0m                          0.456     24864\n",
      "       \u001b[1mmacro avg\u001b[0m      0.166     0.163     0.162     24864\n",
      "    weighted avg      0.510     0.456     0.481     24864\n",
      "    \n"
     ]
    }
   ],
   "source": [
    "stratified = np.random.choice(6, len(y_target_valid), p=[0.6029, 0.1665, 0.1083, 0.0695, 0.0388, 0.0140])\n",
    "summarize(y_target_valid, stratified)"
   ]
  },
  {
   "cell_type": "markdown",
   "metadata": {},
   "source": [
    "## Ridge classification\n",
    "\n",
    "Here, we train a ridge classifier on the ROCKET features."
   ]
  },
  {
   "cell_type": "code",
   "execution_count": 25,
   "metadata": {},
   "outputs": [
    {
     "data": {
      "text/plain": [
       "RidgeClassifier(alpha=0.5, normalize=True)"
      ]
     },
     "execution_count": 25,
     "metadata": {},
     "output_type": "execute_result"
    }
   ],
   "source": [
    "from sklearn.linear_model import RidgeClassifier\n",
    "\n",
    "classifier = RidgeClassifier(alpha=0.5, normalize=True)\n",
    "classifier.fit(X_train, round_and_intify(y_target_train))"
   ]
  },
  {
   "cell_type": "code",
   "execution_count": 26,
   "metadata": {},
   "outputs": [
    {
     "data": {
      "image/png": "[encoded data removed]",
      "text/plain": [
       "<Figure size 626.4x504 with 2 Axes>"
      ]
     },
     "metadata": {},
     "output_type": "display_data"
    },
    {
     "name": "stdout",
     "output_type": "stream",
     "text": [
      "                  precision    recall  \u001b[1mf1-score\u001b[0m   support\n",
      "    \n",
      "            \u001b[1mNone \u001b[0m     0.741     0.936     0.827     16939\n",
      "            \u001b[1m  D0 \u001b[0m     0.316     0.175     0.225      4570\n",
      "            \u001b[1m  D1 \u001b[0m     0.296     0.063     0.104      2194\n",
      "            \u001b[1m  D2 \u001b[0m     0.146     0.070     0.094       790\n",
      "            \u001b[1m  D3 \u001b[0m     0.147     0.052     0.077       305\n",
      "            \u001b[1m  D4 \u001b[0m     0.000     0.000     0.000        66\n",
      "    \n",
      " \u001b[1m(micro avg) acc\u001b[0m                          0.678     24864\n",
      "       \u001b[1mmacro avg\u001b[0m      0.274     0.216     0.221     24864\n",
      "    weighted avg      0.596     0.678     0.618     24864\n",
      "    \n"
     ]
    }
   ],
   "source": [
    "y_pred_valid = classifier.predict(X_valid)\n",
    "\n",
    "summarize(y_target_valid, y_pred_valid)"
   ]
  },
  {
   "cell_type": "markdown",
   "metadata": {},
   "source": [
    "## Ridge regression\n",
    "\n",
    "Here, we don't train a ridge classifier, but a ridge regressor. The predictions then get rounded afterwards."
   ]
  },
  {
   "cell_type": "code",
   "execution_count": 27,
   "metadata": {},
   "outputs": [
    {
     "data": {
      "text/plain": [
       "Ridge(alpha=0.5, normalize=True)"
      ]
     },
     "execution_count": 27,
     "metadata": {},
     "output_type": "execute_result"
    }
   ],
   "source": [
    "from sklearn.linear_model import Ridge\n",
    "\n",
    "ridgeRegressor = Ridge(alpha=0.5, normalize=True)\n",
    "ridgeRegressor.fit(X_train, np.squeeze(y_target_train))"
   ]
  },
  {
   "cell_type": "code",
   "execution_count": 28,
   "metadata": {},
   "outputs": [
    {
     "data": {
      "image/png": "[encoded data removed]",
      "text/plain": [
       "<Figure size 626.4x504 with 2 Axes>"
      ]
     },
     "metadata": {},
     "output_type": "display_data"
    },
    {
     "name": "stdout",
     "output_type": "stream",
     "text": [
      "                  precision    recall  \u001b[1mf1-score\u001b[0m   support\n",
      "    \n",
      "            \u001b[1mNone \u001b[0m     0.900     0.554     0.686     16939\n",
      "            \u001b[1m  D0 \u001b[0m     0.248     0.607     0.352      4570\n",
      "            \u001b[1m  D1 \u001b[0m     0.232     0.305     0.263      2194\n",
      "            \u001b[1m  D2 \u001b[0m     0.150     0.063     0.089       790\n",
      "            \u001b[1m  D3 \u001b[0m     0.000     0.000     0.000       305\n",
      "            \u001b[1m  D4 \u001b[0m     0.000     0.000     0.000        66\n",
      "    \n",
      " \u001b[1m(micro avg) acc\u001b[0m                          0.518     24864\n",
      "       \u001b[1mmacro avg\u001b[0m      0.255     0.255     0.232     24864\n",
      "    weighted avg      0.684     0.518     0.558     24864\n",
      "    \n"
     ]
    }
   ],
   "source": [
    "y_pred_valid = ridgeRegressor.predict(X_valid)\n",
    "\n",
    "summarize(y_target_valid, y_pred_valid)"
   ]
  },
  {
   "cell_type": "markdown",
   "metadata": {},
   "source": [
    "## Linear regression\n",
    "\n",
    "Here, we use a plain linear regressor without normalization. The predictions get rounded afterwards."
   ]
  },
  {
   "cell_type": "code",
   "execution_count": 29,
   "metadata": {},
   "outputs": [
    {
     "data": {
      "text/plain": [
       "LinearRegression(normalize=True)"
      ]
     },
     "execution_count": 29,
     "metadata": {},
     "output_type": "execute_result"
    }
   ],
   "source": [
    "from sklearn.linear_model import LinearRegression\n",
    "\n",
    "linearRegressor = LinearRegression(normalize=True)\n",
    "linearRegressor.fit(X_train, np.squeeze(y_target_train))"
   ]
  },
  {
   "cell_type": "code",
   "execution_count": 30,
   "metadata": {},
   "outputs": [
    {
     "data": {
      "image/png": "[encoded data removed]",
      "text/plain": [
       "<Figure size 626.4x504 with 2 Axes>"
      ]
     },
     "metadata": {},
     "output_type": "display_data"
    },
    {
     "name": "stdout",
     "output_type": "stream",
     "text": [
      "                  precision    recall  \u001b[1mf1-score\u001b[0m   support\n",
      "    \n",
      "            \u001b[1mNone \u001b[0m     0.851     0.547     0.666     16939\n",
      "            \u001b[1m  D0 \u001b[0m     0.216     0.465     0.295      4570\n",
      "            \u001b[1m  D1 \u001b[0m     0.205     0.320     0.250      2194\n",
      "            \u001b[1m  D2 \u001b[0m     0.150     0.130     0.139       790\n",
      "            \u001b[1m  D3 \u001b[0m     0.136     0.010     0.018       305\n",
      "            \u001b[1m  D4 \u001b[0m     0.000     0.000     0.000        66\n",
      "    \n",
      " \u001b[1m(micro avg) acc\u001b[0m                          0.491     24864\n",
      "       \u001b[1mmacro avg\u001b[0m      0.260     0.246     0.228     24864\n",
      "    weighted avg      0.644     0.491     0.535     24864\n",
      "    \n"
     ]
    }
   ],
   "source": [
    "y_pred_valid = linearRegressor.predict(X_valid)\n",
    "\n",
    "summarize(y_target_valid, y_pred_valid)"
   ]
  },
  {
   "cell_type": "markdown",
   "metadata": {},
   "source": [
    "## Ridge regression, squared X\n",
    "\n",
    "It seems as our model is still very hesitant to vote for classes D2, D3 and D4. We want to punish it harder for mistakes on these classes by increasing their distance to the lower classes. We do this by squaring all Y values. So instad of 0,1,2,3,4,5 we now have 0,1,4,9,16,25. \n",
    "\n",
    "After regression, we take the square root of the predictions to get our 'true' classes again."
   ]
  },
  {
   "cell_type": "code",
   "execution_count": 31,
   "metadata": {},
   "outputs": [
    {
     "data": {
      "text/plain": [
       "Ridge(alpha=0.5, normalize=True)"
      ]
     },
     "execution_count": 31,
     "metadata": {},
     "output_type": "execute_result"
    }
   ],
   "source": [
    "from sklearn.linear_model import Ridge\n",
    "\n",
    "ridgeRegressor = Ridge(alpha=0.5, normalize=True)\n",
    "ridgeRegressor.fit(X_train, np.square(np.squeeze(y_target_train)))"
   ]
  },
  {
   "cell_type": "code",
   "execution_count": 32,
   "metadata": {},
   "outputs": [
    {
     "data": {
      "image/png": "[encoded data removed]",
      "text/plain": [
       "<Figure size 626.4x504 with 2 Axes>"
      ]
     },
     "metadata": {},
     "output_type": "display_data"
    },
    {
     "name": "stdout",
     "output_type": "stream",
     "text": [
      "                  precision    recall  \u001b[1mf1-score\u001b[0m   support\n",
      "    \n",
      "            \u001b[1mNone \u001b[0m     0.919     0.374     0.532     16939\n",
      "            \u001b[1m  D0 \u001b[0m     0.204     0.391     0.268      4570\n",
      "            \u001b[1m  D1 \u001b[0m     0.154     0.571     0.242      2194\n",
      "            \u001b[1m  D2 \u001b[0m     0.135     0.178     0.154       790\n",
      "            \u001b[1m  D3 \u001b[0m     0.000     0.000     0.000       305\n",
      "            \u001b[1m  D4 \u001b[0m     0.000     0.000     0.000        66\n",
      "    \n",
      " \u001b[1m(micro avg) acc\u001b[0m                          0.383     24864\n",
      "       \u001b[1mmacro avg\u001b[0m      0.235     0.252     0.199     24864\n",
      "    weighted avg      0.681     0.383     0.438     24864\n",
      "    \n"
     ]
    }
   ],
   "source": [
    "y_pred_valid = ridgeRegressor.predict(X_valid)\n",
    "\n",
    "summarize(y_target_valid, np.sqrt(y_pred_valid))"
   ]
  },
  {
   "cell_type": "code",
   "execution_count": null,
   "metadata": {},
   "outputs": [],
   "source": []
  }
 ],
 "metadata": {
  "kernelspec": {
   "display_name": "Python 3 (ipykernel)",
   "language": "python",
   "name": "python3"
  },
  "language_info": {
   "codemirror_mode": {
    "name": "ipython",
    "version": 3
   },
   "file_extension": ".py",
   "mimetype": "text/x-python",
   "name": "python",
   "nbconvert_exporter": "python",
   "pygments_lexer": "ipython3",
   "version": "3.8.10"
  }
 },
 "nbformat": 4,
 "nbformat_minor": 4
}
