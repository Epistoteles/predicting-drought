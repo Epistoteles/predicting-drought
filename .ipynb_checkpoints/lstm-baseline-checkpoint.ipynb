{
 "cells": [
  {
   "cell_type": "markdown",
   "metadata": {},
   "source": [
    "> ## US Drought & Meteorological Data Starter Notebook\n",
    "This notebook will walk you trough loading the data and create a Dummy Classifier, showing a range of F1 scores that correspond to random predictions if given theclass priors."
   ]
  },
  {
   "cell_type": "markdown",
   "metadata": {},
   "source": [
    "## Loading & Visualizing the Data\n",
    "In this section, we load the training and validation data into numpy arrays and visualize the drought classes and meteorological attributes."
   ]
  },
  {
   "cell_type": "markdown",
   "metadata": {},
   "source": [
    "We load the json files for training, validation and testing into the ``files`` dictionary."
   ]
  },
  {
   "cell_type": "code",
   "execution_count": 1,
   "metadata": {
    "_kg_hide-input": false,
    "execution": {
     "iopub.execute_input": "2021-07-23T02:17:39.402587Z",
     "iopub.status.busy": "2021-07-23T02:17:39.402183Z",
     "iopub.status.idle": "2021-07-23T02:17:40.461213Z",
     "shell.execute_reply": "2021-07-23T02:17:40.460247Z",
     "shell.execute_reply.started": "2021-07-23T02:17:39.402500Z"
    }
   },
   "outputs": [],
   "source": [
    "import numpy as np\n",
    "import pandas as pd\n",
    "import json\n",
    "import os\n",
    "from tqdm.auto import tqdm\n",
    "from datetime import datetime\n",
    "from scipy.interpolate import interp1d\n",
    "from sklearn.preprocessing import RobustScaler\n",
    "\n",
    "files = {}\n",
    "\n",
    "for dirname, _, filenames in os.walk('/kaggle/input'):\n",
    "    for filename in filenames:\n",
    "        if 'train' in filename:\n",
    "            files['train'] = os.path.join(dirname, filename)\n",
    "        if 'valid' in filename:\n",
    "            files['valid'] = os.path.join(dirname, filename)\n",
    "        if 'test' in filename:\n",
    "            files['test'] = os.path.join(dirname, filename)"
   ]
  },
  {
   "cell_type": "markdown",
   "metadata": {},
   "source": [
    "The following classes exist, ranging from no drought (``None``), to extreme drought (``D4``).\n",
    "This could be treated as a regression, ordinal or classification problem, but for now we will treat it as 5 distinct classes."
   ]
  },
  {
   "cell_type": "code",
   "execution_count": 2,
   "metadata": {
    "_kg_hide-input": true,
    "execution": {
     "iopub.execute_input": "2021-07-23T02:17:40.466019Z",
     "iopub.status.busy": "2021-07-23T02:17:40.465667Z",
     "iopub.status.idle": "2021-07-23T02:17:40.474503Z",
     "shell.execute_reply": "2021-07-23T02:17:40.473413Z",
     "shell.execute_reply.started": "2021-07-23T02:17:40.465977Z"
    }
   },
   "outputs": [],
   "source": [
    "class2id = {\n",
    "    'None': 0,\n",
    "    'D0': 1,\n",
    "    'D1': 2,\n",
    "    'D2': 3,\n",
    "    'D3': 4,\n",
    "    'D4': 5,\n",
    "}\n",
    "id2class = {v: k for k, v in class2id.items()}"
   ]
  },
  {
   "cell_type": "markdown",
   "metadata": {},
   "source": [
    "Now we'll define a helper method to load the datasets. This just walks through the json and discards the few samples that are corrupted."
   ]
  },
  {
   "cell_type": "code",
   "execution_count": 3,
   "metadata": {
    "execution": {
     "iopub.execute_input": "2021-07-23T02:17:40.477426Z",
     "iopub.status.busy": "2021-07-23T02:17:40.477001Z",
     "iopub.status.idle": "2021-07-23T02:19:02.675950Z",
     "shell.execute_reply": "2021-07-23T02:19:02.674714Z",
     "shell.execute_reply.started": "2021-07-23T02:17:40.477393Z"
    }
   },
   "outputs": [],
   "source": [
    "dfs = {\n",
    "    k: pd.read_csv(files[k]).set_index(['fips', 'date'])\n",
    "    for k in files.keys()\n",
    "}"
   ]
  },
  {
   "cell_type": "markdown",
   "metadata": {},
   "source": [
    "We also add a helper function to interpolate the drought values."
   ]
  },
  {
   "cell_type": "code",
   "execution_count": 4,
   "metadata": {
    "execution": {
     "iopub.execute_input": "2021-07-23T02:19:02.678146Z",
     "iopub.status.busy": "2021-07-23T02:19:02.677606Z",
     "iopub.status.idle": "2021-07-23T02:19:02.687435Z",
     "shell.execute_reply": "2021-07-23T02:19:02.684523Z",
     "shell.execute_reply.started": "2021-07-23T02:19:02.678090Z"
    }
   },
   "outputs": [],
   "source": [
    "def interpolate_nans(padata, pkind='linear'):\n",
    "    \"\"\"\n",
    "    see: https://stackoverflow.com/a/53050216/2167159\n",
    "    \"\"\"\n",
    "    aindexes = np.arange(padata.shape[0])\n",
    "    agood_indexes, = np.where(np.isfinite(padata))\n",
    "    f = interp1d(agood_indexes\n",
    "               , padata[agood_indexes]\n",
    "               , bounds_error=False\n",
    "               , copy=False\n",
    "               , fill_value=\"extrapolate\"\n",
    "               , kind=pkind)\n",
    "    return f(aindexes)"
   ]
  },
  {
   "cell_type": "markdown",
   "metadata": {},
   "source": [
    "We encode the day of year using sin/cos and add the data loading function `loadXY`."
   ]
  },
  {
   "cell_type": "code",
   "execution_count": 5,
   "metadata": {
    "execution": {
     "iopub.execute_input": "2021-07-23T02:19:02.693413Z",
     "iopub.status.busy": "2021-07-23T02:19:02.692940Z",
     "iopub.status.idle": "2021-07-23T02:19:02.720337Z",
     "shell.execute_reply": "2021-07-23T02:19:02.718887Z",
     "shell.execute_reply.started": "2021-07-23T02:19:02.693369Z"
    }
   },
   "outputs": [],
   "source": [
    "def date_encode(date):\n",
    "    if isinstance(date, str):\n",
    "        date = datetime.strptime(date, \"%Y-%m-%d\")\n",
    "    return (\n",
    "        np.sin(2 * np.pi * date.timetuple().tm_yday / 366),\n",
    "        np.cos(2 * np.pi * date.timetuple().tm_yday / 366),\n",
    "    )\n",
    "\n",
    "def loadXY(\n",
    "    df,\n",
    "    random_state=42, # keep this at 42\n",
    "    window_size=180, # how many days in the past (default/competition: 180)\n",
    "    target_size=6, # how many weeks into the future (default/competition: 6)\n",
    "    fuse_past=True, # add the past drought observations? (default: True)\n",
    "    return_fips=False, # return the county identifier (do not use for predictions)\n",
    "    encode_season=True, # encode the season using the function above (default: True) \n",
    "    use_prev_year=False, # add observations from 1 year prior?\n",
    "):\n",
    "    df = dfs[df]\n",
    "    soil_df = pd.read_csv(\"/kaggle/input/soil_data.csv\")\n",
    "    time_data_cols = sorted(\n",
    "        [c for c in df.columns if c not in [\"fips\", \"date\", \"score\"]]\n",
    "    )\n",
    "    static_data_cols = sorted(\n",
    "        [c for c in soil_df.columns if c not in [\"soil\", \"lat\", \"lon\"]]\n",
    "    )\n",
    "    count = 0\n",
    "    score_df = df.dropna(subset=[\"score\"])\n",
    "    X_static = np.empty((len(df) // window_size, len(static_data_cols)))\n",
    "    X_fips_date = []\n",
    "    add_dim = 0\n",
    "    if use_prev_year:\n",
    "        add_dim += len(time_data_cols)\n",
    "    if fuse_past:\n",
    "        add_dim += 1\n",
    "        if use_prev_year:\n",
    "            add_dim += 1\n",
    "    if encode_season:\n",
    "        add_dim += 2\n",
    "    X_time = np.empty(\n",
    "        (len(df) // window_size, window_size, len(time_data_cols) + add_dim)\n",
    "    )\n",
    "    y_past = np.empty((len(df) // window_size, window_size))\n",
    "    y_target = np.empty((len(df) // window_size, target_size))\n",
    "    if random_state is not None:\n",
    "        np.random.seed(random_state)\n",
    "    for fips in tqdm(score_df.index.get_level_values(0).unique()):\n",
    "        if random_state is not None:\n",
    "            start_i = np.random.randint(1, window_size)\n",
    "        else:\n",
    "            start_i = 1\n",
    "        fips_df = df[(df.index.get_level_values(0) == fips)]\n",
    "        X = fips_df[time_data_cols].values\n",
    "        y = fips_df[\"score\"].values\n",
    "        X_s = soil_df[soil_df[\"fips\"] == fips][static_data_cols].values[0]\n",
    "        for i in range(start_i, len(y) - (window_size + target_size * 7), window_size):\n",
    "            X_fips_date.append((fips, fips_df.index[i : i + window_size][-1]))\n",
    "            X_time[count, :, : len(time_data_cols)] = X[i : i + window_size]\n",
    "            if use_prev_year:\n",
    "                if i < 365 or len(X[i - 365 : i + window_size - 365]) < window_size:\n",
    "                    continue\n",
    "                X_time[count, :, -len(time_data_cols) :] = X[\n",
    "                    i - 365 : i + window_size - 365\n",
    "                ]\n",
    "            if not fuse_past:\n",
    "                y_past[count] = interpolate_nans(y[i : i + window_size])\n",
    "            else:\n",
    "                X_time[count, :, len(time_data_cols)] = interpolate_nans(\n",
    "                    y[i : i + window_size]\n",
    "                )\n",
    "            if encode_season:\n",
    "                enc_dates = [\n",
    "                    date_encode(d) for f, d in fips_df.index[i : i + window_size].values\n",
    "                ]\n",
    "                d_sin, d_cos = [s for s, c in enc_dates], [c for s, c in enc_dates]\n",
    "                X_time[count, :, len(time_data_cols) + (add_dim - 2)] = d_sin\n",
    "                X_time[count, :, len(time_data_cols) + (add_dim - 2) + 1] = d_cos\n",
    "            temp_y = y[i + window_size : i + window_size + target_size * 7]\n",
    "            y_target[count] = np.array(temp_y[~np.isnan(temp_y)][:target_size])\n",
    "            X_static[count] = X_s\n",
    "            count += 1\n",
    "    print(f\"loaded {count} samples\")\n",
    "    results = [X_static[:count], X_time[:count], y_target[:count]]\n",
    "    if not fuse_past:\n",
    "        results.append(y_past[:count])\n",
    "    if return_fips:\n",
    "        results.append(X_fips_date)\n",
    "    return results"
   ]
  },
  {
   "cell_type": "markdown",
   "metadata": {},
   "source": [
    "Now we add a helper to normalise the data."
   ]
  },
  {
   "cell_type": "code",
   "execution_count": 6,
   "metadata": {
    "execution": {
     "iopub.execute_input": "2021-07-23T02:19:02.723441Z",
     "iopub.status.busy": "2021-07-23T02:19:02.722859Z",
     "iopub.status.idle": "2021-07-23T02:19:02.739145Z",
     "shell.execute_reply": "2021-07-23T02:19:02.738078Z",
     "shell.execute_reply.started": "2021-07-23T02:19:02.723395Z"
    }
   },
   "outputs": [],
   "source": [
    "scaler_dict = {}\n",
    "scaler_dict_static = {}\n",
    "scaler_dict_past = {}\n",
    "\n",
    "\n",
    "def normalize(X_static, X_time, y_past=None, fit=False):\n",
    "    for index in tqdm(range(X_time.shape[-1])):\n",
    "        if fit:\n",
    "            scaler_dict[index] = RobustScaler().fit(X_time[:, :, index].reshape(-1, 1))\n",
    "        X_time[:, :, index] = (\n",
    "            scaler_dict[index]\n",
    "            .transform(X_time[:, :, index].reshape(-1, 1))\n",
    "            .reshape(-1, X_time.shape[-2])\n",
    "        )\n",
    "    for index in tqdm(range(X_static.shape[-1])):\n",
    "        if fit:\n",
    "            scaler_dict_static[index] = RobustScaler().fit(\n",
    "                X_static[:, index].reshape(-1, 1)\n",
    "            )\n",
    "        X_static[:, index] = (\n",
    "            scaler_dict_static[index]\n",
    "            .transform(X_static[:, index].reshape(-1, 1))\n",
    "            .reshape(1, -1)\n",
    "        )\n",
    "    index = 0\n",
    "    if y_past is not None:\n",
    "        if fit:\n",
    "            scaler_dict_past[index] = RobustScaler().fit(y_past.reshape(-1, 1))\n",
    "        y_past[:, :] = (\n",
    "            scaler_dict_past[index]\n",
    "            .transform(y_past.reshape(-1, 1))\n",
    "            .reshape(-1, y_past.shape[-1])\n",
    "        )\n",
    "        return X_static, X_time, y_past\n",
    "    return X_static, X_time"
   ]
  },
  {
   "cell_type": "code",
   "execution_count": 7,
   "metadata": {
    "execution": {
     "iopub.execute_input": "2021-07-23T02:19:02.741814Z",
     "iopub.status.busy": "2021-07-23T02:19:02.741187Z",
     "iopub.status.idle": "2021-07-23T02:36:40.866092Z",
     "shell.execute_reply": "2021-07-23T02:36:40.864874Z",
     "shell.execute_reply.started": "2021-07-23T02:19:02.741767Z"
    }
   },
   "outputs": [
    {
     "data": {
      "application/vnd.jupyter.widget-view+json": {
       "model_id": "0d67cb4c24b2485f9a0441a0f12d523e",
       "version_major": 2,
       "version_minor": 0
      },
      "text/plain": [
       "  0%|          | 0/3108 [00:00<?, ?it/s]"
      ]
     },
     "metadata": {},
     "output_type": "display_data"
    },
    {
     "name": "stdout",
     "output_type": "stream",
     "text": [
      "loaded 103390 samples\n",
      "train shape (103390, 180, 21)\n"
     ]
    },
    {
     "data": {
      "application/vnd.jupyter.widget-view+json": {
       "model_id": "95d6209018124a7380ccd8d1bdc52b40",
       "version_major": 2,
       "version_minor": 0
      },
      "text/plain": [
       "  0%|          | 0/3108 [00:00<?, ?it/s]"
      ]
     },
     "metadata": {},
     "output_type": "display_data"
    },
    {
     "name": "stdout",
     "output_type": "stream",
     "text": [
      "loaded 8748 samples\n",
      "validation shape (8748, 180, 21)\n"
     ]
    },
    {
     "data": {
      "application/vnd.jupyter.widget-view+json": {
       "model_id": "f951d27bb9fc40bf8f960d8eb453427d",
       "version_major": 2,
       "version_minor": 0
      },
      "text/plain": [
       "  0%|          | 0/21 [00:00<?, ?it/s]"
      ]
     },
     "metadata": {},
     "output_type": "display_data"
    },
    {
     "data": {
      "application/vnd.jupyter.widget-view+json": {
       "model_id": "bcddaf489071494ca483da0e934b4baa",
       "version_major": 2,
       "version_minor": 0
      },
      "text/plain": [
       "  0%|          | 0/30 [00:00<?, ?it/s]"
      ]
     },
     "metadata": {},
     "output_type": "display_data"
    },
    {
     "data": {
      "application/vnd.jupyter.widget-view+json": {
       "model_id": "e2c7a47a45d64546bb946dd439671019",
       "version_major": 2,
       "version_minor": 0
      },
      "text/plain": [
       "  0%|          | 0/21 [00:00<?, ?it/s]"
      ]
     },
     "metadata": {},
     "output_type": "display_data"
    },
    {
     "data": {
      "application/vnd.jupyter.widget-view+json": {
       "model_id": "3e4edbd860d4483eba27c9bc7387d856",
       "version_major": 2,
       "version_minor": 0
      },
      "text/plain": [
       "  0%|          | 0/30 [00:00<?, ?it/s]"
      ]
     },
     "metadata": {},
     "output_type": "display_data"
    }
   ],
   "source": [
    "X_static_train, X_time_train, y_target_train = loadXY(\"train\")\n",
    "print(\"train shape\", X_time_train.shape)\n",
    "X_static_valid, X_time_valid, y_target_valid, valid_fips = loadXY(\"valid\", return_fips=True)\n",
    "print(\"validation shape\", X_time_valid.shape)\n",
    "X_static_train, X_time_train = normalize(X_static_train, X_time_train, fit=True)\n",
    "X_static_valid, X_time_valid = normalize(X_static_valid, X_time_valid)"
   ]
  },
  {
   "cell_type": "markdown",
   "metadata": {},
   "source": [
    "Below we use PyTorch to load the data."
   ]
  },
  {
   "cell_type": "code",
   "execution_count": 8,
   "metadata": {
    "execution": {
     "iopub.execute_input": "2021-07-23T02:36:40.868871Z",
     "iopub.status.busy": "2021-07-23T02:36:40.868052Z",
     "iopub.status.idle": "2021-07-23T02:36:40.876078Z",
     "shell.execute_reply": "2021-07-23T02:36:40.874610Z",
     "shell.execute_reply.started": "2021-07-23T02:36:40.868826Z"
    }
   },
   "outputs": [],
   "source": [
    "batch_size = 128\n",
    "output_weeks = 6\n",
    "use_static = True\n",
    "hidden_dim = 512\n",
    "n_layers = 2\n",
    "ffnn_layers = 2\n",
    "dropout = 0.1\n",
    "one_cycle = True\n",
    "lr = 7e-5\n",
    "epochs = 10\n",
    "clip = 5"
   ]
  },
  {
   "cell_type": "code",
   "execution_count": 9,
   "metadata": {
    "execution": {
     "iopub.execute_input": "2021-07-23T02:36:40.878672Z",
     "iopub.status.busy": "2021-07-23T02:36:40.877885Z",
     "iopub.status.idle": "2021-07-23T02:36:45.136949Z",
     "shell.execute_reply": "2021-07-23T02:36:45.135970Z",
     "shell.execute_reply.started": "2021-07-23T02:36:40.878598Z"
    }
   },
   "outputs": [],
   "source": [
    "import torch\n",
    "from torch.utils.data import TensorDataset, DataLoader\n",
    "\n",
    "train_data = TensorDataset(\n",
    "    torch.tensor(X_time_train),\n",
    "    torch.tensor(X_static_train),\n",
    "    torch.tensor(y_target_train[:, :output_weeks]),\n",
    ")\n",
    "train_loader = DataLoader(\n",
    "    train_data, shuffle=True, batch_size=batch_size, drop_last=False\n",
    ")\n",
    "valid_data = TensorDataset(\n",
    "    torch.tensor(X_time_valid),\n",
    "    torch.tensor(X_static_valid),\n",
    "    torch.tensor(y_target_valid[:, :output_weeks]),\n",
    ")\n",
    "valid_loader = DataLoader(\n",
    "    valid_data, shuffle=False, batch_size=batch_size, drop_last=False\n",
    ")"
   ]
  },
  {
   "cell_type": "code",
   "execution_count": 10,
   "metadata": {
    "execution": {
     "iopub.execute_input": "2021-07-23T02:36:45.139586Z",
     "iopub.status.busy": "2021-07-23T02:36:45.139089Z",
     "iopub.status.idle": "2021-07-23T02:36:45.205212Z",
     "shell.execute_reply": "2021-07-23T02:36:45.204259Z",
     "shell.execute_reply.started": "2021-07-23T02:36:45.139543Z"
    }
   },
   "outputs": [],
   "source": [
    "import torch\n",
    "from torch import nn\n",
    "from sklearn.metrics import f1_score, mean_absolute_error\n",
    "\n",
    "class DroughtNetLSTM(nn.Module):\n",
    "    def __init__(\n",
    "        self,\n",
    "        output_size,\n",
    "        num_input_features,\n",
    "        hidden_dim,\n",
    "        n_layers,\n",
    "        ffnn_layers,\n",
    "        drop_prob,\n",
    "        static_dim=0,\n",
    "    ):\n",
    "        super(DroughtNetLSTM, self).__init__()\n",
    "        self.output_size = output_size\n",
    "        self.n_layers = n_layers\n",
    "        self.hidden_dim = hidden_dim\n",
    "\n",
    "        self.lstm = nn.LSTM(\n",
    "            num_input_features,\n",
    "            hidden_dim,\n",
    "            n_layers,\n",
    "            dropout=drop_prob,\n",
    "            batch_first=True,\n",
    "        )\n",
    "        self.dropout = nn.Dropout(drop_prob)\n",
    "        self.fflayers = []\n",
    "        for i in range(ffnn_layers - 1):\n",
    "            if i == 0:\n",
    "                self.fflayers.append(nn.Linear(hidden_dim + static_dim, hidden_dim))\n",
    "            else:\n",
    "                self.fflayers.append(nn.Linear(hidden_dim, hidden_dim))\n",
    "        self.fflayers = nn.ModuleList(self.fflayers)\n",
    "        self.final = nn.Linear(hidden_dim, output_size)\n",
    "\n",
    "    def forward(self, x, hidden, static=None):\n",
    "        batch_size = x.size(0)\n",
    "        x = x.to(dtype=torch.float32)\n",
    "        if static is not None:\n",
    "            static = static.to(dtype=torch.float32)\n",
    "        lstm_out, hidden = self.lstm(x, hidden)\n",
    "        lstm_out = lstm_out[:, -1, :]\n",
    "\n",
    "        out = self.dropout(lstm_out)\n",
    "        for i in range(len(self.fflayers)):\n",
    "            if i == 0 and static is not None:\n",
    "                out = self.fflayers[i](torch.cat((out, static), 1))\n",
    "            else:\n",
    "                out = self.fflayers[i](out)\n",
    "        out = self.final(out)\n",
    "\n",
    "        out = out.view(batch_size, -1)\n",
    "        return out, hidden\n",
    "\n",
    "    def init_hidden(self, batch_size):\n",
    "        weight = next(self.parameters()).data\n",
    "        hidden = (\n",
    "            weight.new(self.n_layers, batch_size, self.hidden_dim).zero_().to(device),\n",
    "            weight.new(self.n_layers, batch_size, self.hidden_dim).zero_().to(device),\n",
    "        )\n",
    "        return hidden"
   ]
  },
  {
   "cell_type": "code",
   "execution_count": 11,
   "metadata": {
    "execution": {
     "iopub.execute_input": "2021-07-23T02:36:45.207883Z",
     "iopub.status.busy": "2021-07-23T02:36:45.207402Z",
     "iopub.status.idle": "2021-07-23T02:54:58.330901Z",
     "shell.execute_reply": "2021-07-23T02:54:58.329467Z",
     "shell.execute_reply.started": "2021-07-23T02:36:45.207818Z"
    }
   },
   "outputs": [
    {
     "name": "stdout",
     "output_type": "stream",
     "text": [
      "using GPU\n"
     ]
    },
    {
     "data": {
      "application/vnd.jupyter.widget-view+json": {
       "model_id": "0b159e54278840ee9f4b4c472714b132",
       "version_major": 2,
       "version_minor": 0
      },
      "text/plain": [
       "epoch 1/10:   0%|          | 0/808 [00:00<?, ?it/s]"
      ]
     },
     "metadata": {},
     "output_type": "display_data"
    },
    {
     "name": "stdout",
     "output_type": "stream",
     "text": [
      "{'loss': 0.40921229124069214, 'epoch': 0.5, 'step': 404, 'lr': 7.305177512317032e-06, 'week': 1, 'validation_loss': 0.45668993674326636, 'macro_f1': 0.4163034443016502, 'micro_f1': 0.6489483310470965, 'mae': 0.47878493093707597}\n",
      "{'loss': 0.40921229124069214, 'epoch': 0.5, 'step': 404, 'lr': 7.305177512317032e-06, 'week': 2, 'validation_loss': 0.45668993674326636, 'macro_f1': 0.42559369219878157, 'micro_f1': 0.6391175125743027, 'mae': 0.4826114726099206}\n",
      "{'loss': 0.40921229124069214, 'epoch': 0.5, 'step': 404, 'lr': 7.305177512317032e-06, 'week': 3, 'validation_loss': 0.45668993674326636, 'macro_f1': 0.37351778565450244, 'micro_f1': 0.6187700045724737, 'mae': 0.5416862477307267}\n",
      "{'loss': 0.40921229124069214, 'epoch': 0.5, 'step': 404, 'lr': 7.305177512317032e-06, 'week': 4, 'validation_loss': 0.45668993674326636, 'macro_f1': 0.3527469204595146, 'micro_f1': 0.5965935070873343, 'mae': 0.547437645987038}\n",
      "{'loss': 0.40921229124069214, 'epoch': 0.5, 'step': 404, 'lr': 7.305177512317032e-06, 'week': 5, 'validation_loss': 0.45668993674326636, 'macro_f1': 0.3175491250191422, 'micro_f1': 0.5738454503886603, 'mae': 0.5763713545425391}\n",
      "{'loss': 0.40921229124069214, 'epoch': 0.5, 'step': 404, 'lr': 7.305177512317032e-06, 'week': 6, 'validation_loss': 0.45668993674326636, 'macro_f1': 0.30761194873876635, 'micro_f1': 0.5682441700960219, 'mae': 0.5846309398624262}\n",
      "Validation loss decreased (inf --> 0.456690).  Saving model ...\n",
      "{'loss': 0.22411037981510162, 'epoch': 1.0, 'step': 808, 'lr': 1.9612577643465342e-05, 'week': 1, 'validation_loss': 0.24107611929808836, 'macro_f1': 0.7490697125967168, 'micro_f1': 0.8713991769547326, 'mae': 0.21588536689190163}\n",
      "{'loss': 0.22411037981510162, 'epoch': 1.0, 'step': 808, 'lr': 1.9612577643465342e-05, 'week': 2, 'validation_loss': 0.24107611929808836, 'macro_f1': 0.6597577562800605, 'micro_f1': 0.8213305898491083, 'mae': 0.26668425218145453}\n",
      "{'loss': 0.22411037981510162, 'epoch': 1.0, 'step': 808, 'lr': 1.9612577643465342e-05, 'week': 3, 'validation_loss': 0.24107611929808836, 'macro_f1': 0.609068972743731, 'micro_f1': 0.7793781435756745, 'mae': 0.31694031102699566}\n",
      "{'loss': 0.22411037981510162, 'epoch': 1.0, 'step': 808, 'lr': 1.9612577643465342e-05, 'week': 4, 'validation_loss': 0.24107611929808836, 'macro_f1': 0.5401720669715568, 'micro_f1': 0.7409693644261547, 'mae': 0.3540100475095141}\n",
      "{'loss': 0.22411037981510162, 'epoch': 1.0, 'step': 808, 'lr': 1.9612577643465342e-05, 'week': 5, 'validation_loss': 0.24107611929808836, 'macro_f1': 0.4675958649595038, 'micro_f1': 0.711705532693187, 'mae': 0.394415444228813}\n",
      "{'loss': 0.22411037981510162, 'epoch': 1.0, 'step': 808, 'lr': 1.9612577643465342e-05, 'week': 6, 'validation_loss': 0.24107611929808836, 'macro_f1': 0.3978789786356471, 'micro_f1': 0.6852994970278921, 'mae': 0.4319793540268609}\n",
      "Validation loss decreased (0.456690 --> 0.241076).  Saving model ...\n"
     ]
    },
    {
     "data": {
      "application/vnd.jupyter.widget-view+json": {
       "model_id": "cf40e5c761a84df4a3c5f6949bb45737",
       "version_major": 2,
       "version_minor": 0
      },
      "text/plain": [
       "epoch 2/10:   0%|          | 0/808 [00:00<?, ?it/s]"
      ]
     },
     "metadata": {},
     "output_type": "display_data"
    },
    {
     "name": "stdout",
     "output_type": "stream",
     "text": [
      "{'loss': 0.27239128947257996, 'epoch': 1.5, 'step': 1212, 'lr': 3.6421782399043904e-05, 'week': 1, 'validation_loss': 0.2267943819363912, 'macro_f1': 0.7830270055398417, 'micro_f1': 0.8830589849108368, 'mae': 0.19118922620856318}\n",
      "{'loss': 0.27239128947257996, 'epoch': 1.5, 'step': 1212, 'lr': 3.6421782399043904e-05, 'week': 2, 'validation_loss': 0.2267943819363912, 'macro_f1': 0.6992970873526924, 'micro_f1': 0.8286465477823503, 'mae': 0.2460002439190554}\n",
      "{'loss': 0.27239128947257996, 'epoch': 1.5, 'step': 1212, 'lr': 3.6421782399043904e-05, 'week': 3, 'validation_loss': 0.2267943819363912, 'macro_f1': 0.6447145594432092, 'micro_f1': 0.784750800182899, 'mae': 0.294368535834107}\n",
      "{'loss': 0.27239128947257996, 'epoch': 1.5, 'step': 1212, 'lr': 3.6421782399043904e-05, 'week': 4, 'validation_loss': 0.2267943819363912, 'macro_f1': 0.5624151034977339, 'micro_f1': 0.7454275262917238, 'mae': 0.3410861369299232}\n",
      "{'loss': 0.27239128947257996, 'epoch': 1.5, 'step': 1212, 'lr': 3.6421782399043904e-05, 'week': 5, 'validation_loss': 0.2267943819363912, 'macro_f1': 0.5162229016976068, 'micro_f1': 0.7131915866483768, 'mae': 0.38784711297658864}\n",
      "{'loss': 0.27239128947257996, 'epoch': 1.5, 'step': 1212, 'lr': 3.6421782399043904e-05, 'week': 6, 'validation_loss': 0.2267943819363912, 'macro_f1': 0.4719976291133059, 'micro_f1': 0.6840420667581162, 'mae': 0.4278224087947549}\n",
      "Validation loss decreased (0.241076 --> 0.226794).  Saving model ...\n",
      "{'loss': 0.2966930866241455, 'epoch': 2.0, 'step': 1616, 'lr': 5.322514587043574e-05, 'week': 1, 'validation_loss': 0.2241814443166705, 'macro_f1': 0.799234440745871, 'micro_f1': 0.8882030178326474, 'mae': 0.16883159700697625}\n",
      "{'loss': 0.2966930866241455, 'epoch': 2.0, 'step': 1616, 'lr': 5.322514587043574e-05, 'week': 2, 'validation_loss': 0.2241814443166705, 'macro_f1': 0.7103090696876574, 'micro_f1': 0.8288751714677639, 'mae': 0.2367846288049288}\n",
      "{'loss': 0.2966930866241455, 'epoch': 2.0, 'step': 1616, 'lr': 5.322514587043574e-05, 'week': 3, 'validation_loss': 0.2241814443166705, 'macro_f1': 0.6604391598644653, 'micro_f1': 0.7900091449474166, 'mae': 0.2859692906740002}\n",
      "{'loss': 0.2966930866241455, 'epoch': 2.0, 'step': 1616, 'lr': 5.322514587043574e-05, 'week': 4, 'validation_loss': 0.2241814443166705, 'macro_f1': 0.5851230300507224, 'micro_f1': 0.748742569730224, 'mae': 0.33615341275421534}\n",
      "{'loss': 0.2966930866241455, 'epoch': 2.0, 'step': 1616, 'lr': 5.322514587043574e-05, 'week': 5, 'validation_loss': 0.2241814443166705, 'macro_f1': 0.5391497691345942, 'micro_f1': 0.7149062642889804, 'mae': 0.38510141416713206}\n",
      "{'loss': 0.2966930866241455, 'epoch': 2.0, 'step': 1616, 'lr': 5.322514587043574e-05, 'week': 6, 'validation_loss': 0.2241814443166705, 'macro_f1': 0.4897216013742722, 'micro_f1': 0.6826703246456333, 'mae': 0.42365563435863757}\n",
      "Validation loss decreased (0.226794 --> 0.224181).  Saving model ...\n"
     ]
    },
    {
     "data": {
      "application/vnd.jupyter.widget-view+json": {
       "model_id": "ecbb81cf1379449ab8f4de17e4825e44",
       "version_major": 2,
       "version_minor": 0
      },
      "text/plain": [
       "epoch 3/10:   0%|          | 0/808 [00:00<?, ?it/s]"
      ]
     },
     "metadata": {},
     "output_type": "display_data"
    },
    {
     "name": "stdout",
     "output_type": "stream",
     "text": [
      "{'loss': 0.19059711694717407, 'epoch': 2.5, 'step': 2020, 'lr': 6.551658857891442e-05, 'week': 1, 'validation_loss': 0.22251856780570486, 'macro_f1': 0.8034645165589556, 'micro_f1': 0.8885459533607681, 'mae': 0.16327266160751694}\n",
      "{'loss': 0.19059711694717407, 'epoch': 2.5, 'step': 2020, 'lr': 6.551658857891442e-05, 'week': 2, 'validation_loss': 0.22251856780570486, 'macro_f1': 0.7018393871575443, 'micro_f1': 0.8238454503886603, 'mae': 0.23693583381706748}\n",
      "{'loss': 0.19059711694717407, 'epoch': 2.5, 'step': 2020, 'lr': 6.551658857891442e-05, 'week': 3, 'validation_loss': 0.22251856780570486, 'macro_f1': 0.6602683148775536, 'micro_f1': 0.7885230909922267, 'mae': 0.2851384446538038}\n",
      "{'loss': 0.19059711694717407, 'epoch': 2.5, 'step': 2020, 'lr': 6.551658857891442e-05, 'week': 4, 'validation_loss': 0.22251856780570486, 'macro_f1': 0.5935176641969627, 'micro_f1': 0.7467992684042066, 'mae': 0.3364071184585175}\n",
      "{'loss': 0.19059711694717407, 'epoch': 2.5, 'step': 2020, 'lr': 6.551658857891442e-05, 'week': 5, 'validation_loss': 0.22251856780570486, 'macro_f1': 0.5455201523154424, 'micro_f1': 0.7157064471879286, 'mae': 0.3834974428772894}\n",
      "{'loss': 0.19059711694717407, 'epoch': 2.5, 'step': 2020, 'lr': 6.551658857891442e-05, 'week': 6, 'validation_loss': 0.22251856780570486, 'macro_f1': 0.49830276276063495, 'micro_f1': 0.6786694101508917, 'mae': 0.42603043783939215}\n",
      "Validation loss decreased (0.224181 --> 0.222519).  Saving model ...\n",
      "{'loss': 0.21543918550014496, 'epoch': 3.0, 'step': 2424, 'lr': 6.99999946009513e-05, 'week': 1, 'validation_loss': 0.21637585084291472, 'macro_f1': 0.8161830479584559, 'micro_f1': 0.8940329218106996, 'mae': 0.15246790978965227}\n",
      "{'loss': 0.21543918550014496, 'epoch': 3.0, 'step': 2424, 'lr': 6.99999946009513e-05, 'week': 2, 'validation_loss': 0.21637585084291472, 'macro_f1': 0.7313164382744098, 'micro_f1': 0.8351623228166438, 'mae': 0.21659864645299587}\n",
      "{'loss': 0.21543918550014496, 'epoch': 3.0, 'step': 2424, 'lr': 6.99999946009513e-05, 'week': 3, 'validation_loss': 0.21637585084291472, 'macro_f1': 0.6605785285063103, 'micro_f1': 0.7924096936442616, 'mae': 0.26827131515040853}\n",
      "{'loss': 0.21543918550014496, 'epoch': 3.0, 'step': 2424, 'lr': 6.99999946009513e-05, 'week': 4, 'validation_loss': 0.21637585084291472, 'macro_f1': 0.5971344868951723, 'micro_f1': 0.7508001828989483, 'mae': 0.3238653974265572}\n",
      "{'loss': 0.21543918550014496, 'epoch': 3.0, 'step': 2424, 'lr': 6.99999946009513e-05, 'week': 5, 'validation_loss': 0.21637585084291472, 'macro_f1': 0.5431224029279533, 'micro_f1': 0.7213077274805672, 'mae': 0.37451051526870316}\n",
      "{'loss': 0.21543918550014496, 'epoch': 3.0, 'step': 2424, 'lr': 6.99999946009513e-05, 'week': 6, 'validation_loss': 0.21637585084291472, 'macro_f1': 0.5017028963761638, 'micro_f1': 0.6857567443987197, 'mae': 0.4212933785301281}\n",
      "Validation loss decreased (0.222519 --> 0.216376).  Saving model ...\n"
     ]
    },
    {
     "data": {
      "application/vnd.jupyter.widget-view+json": {
       "model_id": "19054ecfb6e14e36bc0fe714d1245e11",
       "version_major": 2,
       "version_minor": 0
      },
      "text/plain": [
       "epoch 4/10:   0%|          | 0/808 [00:00<?, ?it/s]"
      ]
     },
     "metadata": {},
     "output_type": "display_data"
    },
    {
     "name": "stdout",
     "output_type": "stream",
     "text": [
      "{'loss': 0.27092453837394714, 'epoch': 3.5, 'step': 2828, 'lr': 6.911814926126814e-05, 'week': 1, 'validation_loss': 0.21622802354935286, 'macro_f1': 0.8160727499441024, 'micro_f1': 0.8955189757658893, 'mae': 0.15112665381983492}\n",
      "{'loss': 0.27092453837394714, 'epoch': 3.5, 'step': 2828, 'lr': 6.911814926126814e-05, 'week': 2, 'validation_loss': 0.21622802354935286, 'macro_f1': 0.7204403600740479, 'micro_f1': 0.8356195701874715, 'mae': 0.21351017646730494}\n",
      "{'loss': 0.27092453837394714, 'epoch': 3.5, 'step': 2828, 'lr': 6.911814926126814e-05, 'week': 3, 'validation_loss': 0.21622802354935286, 'macro_f1': 0.6747765915459413, 'micro_f1': 0.7935528120713305, 'mae': 0.2707517261317877}\n",
      "{'loss': 0.27092453837394714, 'epoch': 3.5, 'step': 2828, 'lr': 6.911814926126814e-05, 'week': 4, 'validation_loss': 0.21622802354935286, 'macro_f1': 0.6010691151991977, 'micro_f1': 0.7540009144947416, 'mae': 0.31842627872678075}\n",
      "{'loss': 0.27092453837394714, 'epoch': 3.5, 'step': 2828, 'lr': 6.911814926126814e-05, 'week': 5, 'validation_loss': 0.21622802354935286, 'macro_f1': 0.5508918887277519, 'micro_f1': 0.726223136716964, 'mae': 0.36333263317614145}\n",
      "{'loss': 0.27092453837394714, 'epoch': 3.5, 'step': 2828, 'lr': 6.911814926126814e-05, 'week': 6, 'validation_loss': 0.21622802354935286, 'macro_f1': 0.5049561108852674, 'micro_f1': 0.6965020576131687, 'mae': 0.4028524200851745}\n",
      "Validation loss decreased (0.216376 --> 0.216228).  Saving model ...\n",
      "{'loss': 0.21383270621299744, 'epoch': 4.0, 'step': 3232, 'lr': 6.652548447282524e-05, 'week': 1, 'validation_loss': 0.21419948577017023, 'macro_f1': 0.8180673640702811, 'micro_f1': 0.8991769547325102, 'mae': 0.14375439608592844}\n",
      "{'loss': 0.21383270621299744, 'epoch': 4.0, 'step': 3232, 'lr': 6.652548447282524e-05, 'week': 2, 'validation_loss': 0.21419948577017023, 'macro_f1': 0.7237960414620517, 'micro_f1': 0.8379058070416096, 'mae': 0.21216418346715457}\n",
      "{'loss': 0.21383270621299744, 'epoch': 4.0, 'step': 3232, 'lr': 6.652548447282524e-05, 'week': 3, 'validation_loss': 0.21419948577017023, 'macro_f1': 0.6714184459187099, 'micro_f1': 0.7946959304983996, 'mae': 0.26511878823241924}\n",
      "{'loss': 0.21383270621299744, 'epoch': 4.0, 'step': 3232, 'lr': 6.652548447282524e-05, 'week': 4, 'validation_loss': 0.21419948577017023, 'macro_f1': 0.5969847190896843, 'micro_f1': 0.7543438500228624, 'mae': 0.31922748658632305}\n",
      "{'loss': 0.21383270621299744, 'epoch': 4.0, 'step': 3232, 'lr': 6.652548447282524e-05, 'week': 5, 'validation_loss': 0.21419948577017023, 'macro_f1': 0.5534625088969499, 'micro_f1': 0.7251943301326016, 'mae': 0.36349719686889975}\n",
      "{'loss': 0.21383270621299744, 'epoch': 4.0, 'step': 3232, 'lr': 6.652548447282524e-05, 'week': 6, 'validation_loss': 0.21419948577017023, 'macro_f1': 0.5071765036497285, 'micro_f1': 0.6944444444444444, 'mae': 0.40653702098966804}\n",
      "Validation loss decreased (0.216228 --> 0.214199).  Saving model ...\n"
     ]
    },
    {
     "data": {
      "application/vnd.jupyter.widget-view+json": {
       "model_id": "c3e693ccd2cd4f54a02fa62037bcab91",
       "version_major": 2,
       "version_minor": 0
      },
      "text/plain": [
       "epoch 5/10:   0%|          | 0/808 [00:00<?, ?it/s]"
      ]
     },
     "metadata": {},
     "output_type": "display_data"
    },
    {
     "name": "stdout",
     "output_type": "stream",
     "text": [
      "{'loss': 0.30623626708984375, 'epoch': 4.5, 'step': 3636, 'lr': 6.235200727414045e-05, 'week': 1, 'validation_loss': 0.21338295342697614, 'macro_f1': 0.8113316049100184, 'micro_f1': 0.8943758573388203, 'mae': 0.1434590310658689}\n",
      "{'loss': 0.30623626708984375, 'epoch': 4.5, 'step': 3636, 'lr': 6.235200727414045e-05, 'week': 2, 'validation_loss': 0.21338295342697614, 'macro_f1': 0.7028344491280524, 'micro_f1': 0.8382487425697303, 'mae': 0.21103833083455723}\n",
      "{'loss': 0.30623626708984375, 'epoch': 4.5, 'step': 3636, 'lr': 6.235200727414045e-05, 'week': 3, 'validation_loss': 0.21338295342697614, 'macro_f1': 0.6384472676368008, 'micro_f1': 0.7956104252400548, 'mae': 0.2627396761510911}\n",
      "{'loss': 0.30623626708984375, 'epoch': 4.5, 'step': 3636, 'lr': 6.235200727414045e-05, 'week': 4, 'validation_loss': 0.21338295342697614, 'macro_f1': 0.562674425200361, 'micro_f1': 0.7542295381801555, 'mae': 0.31319657910209797}\n",
      "{'loss': 0.30623626708984375, 'epoch': 4.5, 'step': 3636, 'lr': 6.235200727414045e-05, 'week': 5, 'validation_loss': 0.21338295342697614, 'macro_f1': 0.523315223566167, 'micro_f1': 0.7233653406492913, 'mae': 0.35683767425358454}\n",
      "{'loss': 0.30623626708984375, 'epoch': 4.5, 'step': 3636, 'lr': 6.235200727414045e-05, 'week': 6, 'validation_loss': 0.21338295342697614, 'macro_f1': 0.4901720946649073, 'micro_f1': 0.6947873799725651, 'mae': 0.4027310876515052}\n",
      "Validation loss decreased (0.214199 --> 0.213383).  Saving model ...\n",
      "{'loss': 0.17982572317123413, 'epoch': 5.0, 'step': 4040, 'lr': 5.680699323887897e-05, 'week': 1, 'validation_loss': 0.21062899251347003, 'macro_f1': 0.8118393637493879, 'micro_f1': 0.8983767718335619, 'mae': 0.1411117029145321}\n",
      "{'loss': 0.17982572317123413, 'epoch': 5.0, 'step': 4040, 'lr': 5.680699323887897e-05, 'week': 2, 'validation_loss': 0.21062899251347003, 'macro_f1': 0.7330928595596374, 'micro_f1': 0.8414494741655236, 'mae': 0.20519156042087888}\n",
      "{'loss': 0.17982572317123413, 'epoch': 5.0, 'step': 4040, 'lr': 5.680699323887897e-05, 'week': 3, 'validation_loss': 0.21062899251347003, 'macro_f1': 0.6522082858812763, 'micro_f1': 0.7950388660265203, 'mae': 0.2599827365570448}\n",
      "{'loss': 0.17982572317123413, 'epoch': 5.0, 'step': 4040, 'lr': 5.680699323887897e-05, 'week': 4, 'validation_loss': 0.21062899251347003, 'macro_f1': 0.5792959650779829, 'micro_f1': 0.7566300868770005, 'mae': 0.3091700129306062}\n",
      "{'loss': 0.17982572317123413, 'epoch': 5.0, 'step': 4040, 'lr': 5.680699323887897e-05, 'week': 5, 'validation_loss': 0.21062899251347003, 'macro_f1': 0.5348781139052159, 'micro_f1': 0.7263374485596708, 'mae': 0.35538995006221447}\n",
      "{'loss': 0.17982572317123413, 'epoch': 5.0, 'step': 4040, 'lr': 5.680699323887897e-05, 'week': 6, 'validation_loss': 0.21062899251347003, 'macro_f1': 0.48651651441184796, 'micro_f1': 0.6951303155006858, 'mae': 0.3967504597039671}\n",
      "Validation loss decreased (0.213383 --> 0.210629).  Saving model ...\n"
     ]
    },
    {
     "data": {
      "application/vnd.jupyter.widget-view+json": {
       "model_id": "820091209ef94e518bc8507ac1c5fb87",
       "version_major": 2,
       "version_minor": 0
      },
      "text/plain": [
       "epoch 6/10:   0%|          | 0/808 [00:00<?, ?it/s]"
      ]
     },
     "metadata": {},
     "output_type": "display_data"
    },
    {
     "name": "stdout",
     "output_type": "stream",
     "text": [
      "{'loss': 0.27735406160354614, 'epoch': 5.5, 'step': 4444, 'lr': 5.0168492524730965e-05, 'week': 1, 'validation_loss': 0.21219610439046568, 'macro_f1': 0.8204921813717947, 'micro_f1': 0.8991769547325102, 'mae': 0.150677963629119}\n",
      "{'loss': 0.27735406160354614, 'epoch': 5.5, 'step': 4444, 'lr': 5.0168492524730965e-05, 'week': 2, 'validation_loss': 0.21219610439046568, 'macro_f1': 0.7260600621359314, 'micro_f1': 0.838705989940558, 'mae': 0.21270007223843077}\n",
      "{'loss': 0.27735406160354614, 'epoch': 5.5, 'step': 4444, 'lr': 5.0168492524730965e-05, 'week': 3, 'validation_loss': 0.21219610439046568, 'macro_f1': 0.6679910588878579, 'micro_f1': 0.7937814357567444, 'mae': 0.2717072101158877}\n",
      "{'loss': 0.27735406160354614, 'epoch': 5.5, 'step': 4444, 'lr': 5.0168492524730965e-05, 'week': 4, 'validation_loss': 0.21219610439046568, 'macro_f1': 0.5995462692682456, 'micro_f1': 0.7553726566072245, 'mae': 0.3233148259603693}\n",
      "{'loss': 0.27735406160354614, 'epoch': 5.5, 'step': 4444, 'lr': 5.0168492524730965e-05, 'week': 5, 'validation_loss': 0.21219610439046568, 'macro_f1': 0.5528662767574289, 'micro_f1': 0.7222222222222222, 'mae': 0.3718895161916663}\n",
      "{'loss': 0.27735406160354614, 'epoch': 5.5, 'step': 4444, 'lr': 5.0168492524730965e-05, 'week': 6, 'validation_loss': 0.21219610439046568, 'macro_f1': 0.5064454725775154, 'micro_f1': 0.6906721536351166, 'mae': 0.40944609508077806}\n",
      "{'loss': 0.2121540904045105, 'epoch': 6.0, 'step': 4848, 'lr': 4.276938727746874e-05, 'week': 1, 'validation_loss': 0.2102817556672338, 'macro_f1': 0.8089015526588287, 'micro_f1': 0.8976909007773205, 'mae': 0.1385779988174703}\n",
      "{'loss': 0.2121540904045105, 'epoch': 6.0, 'step': 4848, 'lr': 4.276938727746874e-05, 'week': 2, 'validation_loss': 0.2102817556672338, 'macro_f1': 0.7265664741029388, 'micro_f1': 0.8405349794238683, 'mae': 0.20278560607884885}\n",
      "{'loss': 0.2121540904045105, 'epoch': 6.0, 'step': 4848, 'lr': 4.276938727746874e-05, 'week': 3, 'validation_loss': 0.2102817556672338, 'macro_f1': 0.6613183962376481, 'micro_f1': 0.7969821673525376, 'mae': 0.2570128701969794}\n",
      "{'loss': 0.2121540904045105, 'epoch': 6.0, 'step': 4848, 'lr': 4.276938727746874e-05, 'week': 4, 'validation_loss': 0.2102817556672338, 'macro_f1': 0.6018119548361825, 'micro_f1': 0.7576588934613626, 'mae': 0.3097540180273002}\n",
      "{'loss': 0.2121540904045105, 'epoch': 6.0, 'step': 4848, 'lr': 4.276938727746874e-05, 'week': 5, 'validation_loss': 0.2102817556672338, 'macro_f1': 0.5595458482303249, 'micro_f1': 0.7283950617283951, 'mae': 0.35665761403265694}\n",
      "{'loss': 0.2121540904045105, 'epoch': 6.0, 'step': 4848, 'lr': 4.276938727746874e-05, 'week': 6, 'validation_loss': 0.2102817556672338, 'macro_f1': 0.5107437726309867, 'micro_f1': 0.6978737997256516, 'mae': 0.39873404987646593}\n",
      "Validation loss decreased (0.210629 --> 0.210282).  Saving model ...\n"
     ]
    },
    {
     "data": {
      "application/vnd.jupyter.widget-view+json": {
       "model_id": "5256da9e0bb149059a0592f3d6086fe2",
       "version_major": 2,
       "version_minor": 0
      },
      "text/plain": [
       "epoch 7/10:   0%|          | 0/808 [00:00<?, ?it/s]"
      ]
     },
     "metadata": {},
     "output_type": "display_data"
    },
    {
     "name": "stdout",
     "output_type": "stream",
     "text": [
      "{'loss': 0.2074732482433319, 'epoch': 6.5, 'step': 5252, 'lr': 3.498069953016286e-05, 'week': 1, 'validation_loss': 0.2091492525153402, 'macro_f1': 0.8111085793677244, 'micro_f1': 0.9007773205304069, 'mae': 0.1289097470617522}\n",
      "{'loss': 0.2074732482433319, 'epoch': 6.5, 'step': 5252, 'lr': 3.498069953016286e-05, 'week': 2, 'validation_loss': 0.2091492525153402, 'macro_f1': 0.6953240605583634, 'micro_f1': 0.8390489254686786, 'mae': 0.1971234105388276}\n",
      "{'loss': 0.2074732482433319, 'epoch': 6.5, 'step': 5252, 'lr': 3.498069953016286e-05, 'week': 3, 'validation_loss': 0.2091492525153402, 'macro_f1': 0.6511490170577338, 'micro_f1': 0.7943529949702788, 'mae': 0.2560122774334751}\n",
      "{'loss': 0.2074732482433319, 'epoch': 6.5, 'step': 5252, 'lr': 3.498069953016286e-05, 'week': 4, 'validation_loss': 0.2091492525153402, 'macro_f1': 0.5876789188395046, 'micro_f1': 0.7542295381801555, 'mae': 0.3108096473016058}\n",
      "{'loss': 0.2074732482433319, 'epoch': 6.5, 'step': 5252, 'lr': 3.498069953016286e-05, 'week': 5, 'validation_loss': 0.2091492525153402, 'macro_f1': 0.5432999910802147, 'micro_f1': 0.7239368998628257, 'mae': 0.35976627921232357}\n",
      "{'loss': 0.2074732482433319, 'epoch': 6.5, 'step': 5252, 'lr': 3.498069953016286e-05, 'week': 6, 'validation_loss': 0.2091492525153402, 'macro_f1': 0.5026164485004074, 'micro_f1': 0.6931870141746685, 'mae': 0.401274605097612}\n",
      "Validation loss decreased (0.210282 --> 0.209149).  Saving model ...\n",
      "{'loss': 0.17034903168678284, 'epoch': 7.0, 'step': 5656, 'lr': 2.7192986609190955e-05, 'week': 1, 'validation_loss': 0.21088585273727126, 'macro_f1': 0.8306999652557406, 'micro_f1': 0.9037494284407864, 'mae': 0.13141427238846914}\n",
      "{'loss': 0.17034903168678284, 'epoch': 7.0, 'step': 5656, 'lr': 2.7192986609190955e-05, 'week': 2, 'validation_loss': 0.21088585273727126, 'macro_f1': 0.7285704290819481, 'micro_f1': 0.8398491083676269, 'mae': 0.20163560180229123}\n",
      "{'loss': 0.17034903168678284, 'epoch': 7.0, 'step': 5656, 'lr': 2.7192986609190955e-05, 'week': 3, 'validation_loss': 0.21088585273727126, 'macro_f1': 0.6632296690806626, 'micro_f1': 0.7933241883859167, 'mae': 0.2614316593046102}\n",
      "{'loss': 0.17034903168678284, 'epoch': 7.0, 'step': 5656, 'lr': 2.7192986609190955e-05, 'week': 4, 'validation_loss': 0.21088585273727126, 'macro_f1': 0.6013893725883525, 'micro_f1': 0.7549154092363969, 'mae': 0.31892633073005483}\n",
      "{'loss': 0.17034903168678284, 'epoch': 7.0, 'step': 5656, 'lr': 2.7192986609190955e-05, 'week': 5, 'validation_loss': 0.21088585273727126, 'macro_f1': 0.557778112750586, 'micro_f1': 0.7255372656607223, 'mae': 0.3690255860372831}\n",
      "{'loss': 0.17034903168678284, 'epoch': 7.0, 'step': 5656, 'lr': 2.7192986609190955e-05, 'week': 6, 'validation_loss': 0.21088585273727126, 'macro_f1': 0.5154778202381712, 'micro_f1': 0.6927297668038409, 'mae': 0.4132451311095318}\n"
     ]
    },
    {
     "data": {
      "application/vnd.jupyter.widget-view+json": {
       "model_id": "cae5f159141d4c8e8f27ad05ba31c2ba",
       "version_major": 2,
       "version_minor": 0
      },
      "text/plain": [
       "epoch 8/10:   0%|          | 0/808 [00:00<?, ?it/s]"
      ]
     },
     "metadata": {},
     "output_type": "display_data"
    },
    {
     "name": "stdout",
     "output_type": "stream",
     "text": [
      "{'loss': 0.18877272307872772, 'epoch': 7.5, 'step': 6060, 'lr': 1.9796756959067725e-05, 'week': 1, 'validation_loss': 0.20961920836049577, 'macro_f1': 0.8199255031720525, 'micro_f1': 0.9008916323731139, 'mae': 0.13681312421839653}\n",
      "{'loss': 0.18877272307872772, 'epoch': 7.5, 'step': 6060, 'lr': 1.9796756959067725e-05, 'week': 2, 'validation_loss': 0.20961920836049577, 'macro_f1': 0.7287431196122748, 'micro_f1': 0.840992226794696, 'mae': 0.20401157419556026}\n",
      "{'loss': 0.18877272307872772, 'epoch': 7.5, 'step': 6060, 'lr': 1.9796756959067725e-05, 'week': 3, 'validation_loss': 0.20961920836049577, 'macro_f1': 0.6587536342093175, 'micro_f1': 0.7949245541838135, 'mae': 0.2624448722055774}\n",
      "{'loss': 0.18877272307872772, 'epoch': 7.5, 'step': 6060, 'lr': 1.9796756959067725e-05, 'week': 4, 'validation_loss': 0.20961920836049577, 'macro_f1': 0.5991074623001104, 'micro_f1': 0.7560585276634659, 'mae': 0.3159060892684172}\n",
      "{'loss': 0.18877272307872772, 'epoch': 7.5, 'step': 6060, 'lr': 1.9796756959067725e-05, 'week': 5, 'validation_loss': 0.20961920836049577, 'macro_f1': 0.5512421655810688, 'micro_f1': 0.725080018289895, 'mae': 0.3656145290982459}\n",
      "{'loss': 0.18877272307872772, 'epoch': 7.5, 'step': 6060, 'lr': 1.9796756959067725e-05, 'week': 6, 'validation_loss': 0.20961920836049577, 'macro_f1': 0.5090441044270902, 'micro_f1': 0.6939871970736168, 'mae': 0.40696194562113047}\n",
      "{'loss': 0.22705082595348358, 'epoch': 8.0, 'step': 6464, 'lr': 1.316288841841575e-05, 'week': 1, 'validation_loss': 0.20830904249695764, 'macro_f1': 0.8245381905064586, 'micro_f1': 0.9016918152720622, 'mae': 0.13418731948996085}\n",
      "{'loss': 0.22705082595348358, 'epoch': 8.0, 'step': 6464, 'lr': 1.316288841841575e-05, 'week': 2, 'validation_loss': 0.20830904249695764, 'macro_f1': 0.7208674655886579, 'micro_f1': 0.83973479652492, 'mae': 0.20080437180757843}\n",
      "{'loss': 0.22705082595348358, 'epoch': 8.0, 'step': 6464, 'lr': 1.316288841841575e-05, 'week': 3, 'validation_loss': 0.20830904249695764, 'macro_f1': 0.6532849327116438, 'micro_f1': 0.7965249199817102, 'mae': 0.25743832940552325}\n",
      "{'loss': 0.22705082595348358, 'epoch': 8.0, 'step': 6464, 'lr': 1.316288841841575e-05, 'week': 4, 'validation_loss': 0.20830904249695764, 'macro_f1': 0.5856117227685511, 'micro_f1': 0.7557155921353452, 'mae': 0.3116697500020823}\n",
      "{'loss': 0.22705082595348358, 'epoch': 8.0, 'step': 6464, 'lr': 1.316288841841575e-05, 'week': 5, 'validation_loss': 0.20830904249695764, 'macro_f1': 0.5368289209056537, 'micro_f1': 0.7235939643347051, 'mae': 0.35778588771749664}\n",
      "{'loss': 0.22705082595348358, 'epoch': 8.0, 'step': 6464, 'lr': 1.316288841841575e-05, 'week': 6, 'validation_loss': 0.20830904249695764, 'macro_f1': 0.48077408640900265, 'micro_f1': 0.6930727023319616, 'mae': 0.39924105247381203}\n",
      "Validation loss decreased (0.209149 --> 0.208309).  Saving model ...\n"
     ]
    },
    {
     "data": {
      "application/vnd.jupyter.widget-view+json": {
       "model_id": "af65b5a94d93443dbe2cd764f59b5003",
       "version_major": 2,
       "version_minor": 0
      },
      "text/plain": [
       "epoch 9/10:   0%|          | 0/808 [00:00<?, ?it/s]"
      ]
     },
     "metadata": {},
     "output_type": "display_data"
    },
    {
     "name": "stdout",
     "output_type": "stream",
     "text": [
      "{'loss': 0.32853347063064575, 'epoch': 8.5, 'step': 6868, 'lr': 7.624030856485954e-06, 'week': 1, 'validation_loss': 0.20950075492694759, 'macro_f1': 0.8191860456018669, 'micro_f1': 0.9016918152720622, 'mae': 0.12904873333705055}\n",
      "{'loss': 0.32853347063064575, 'epoch': 8.5, 'step': 6868, 'lr': 7.624030856485954e-06, 'week': 2, 'validation_loss': 0.20950075492694759, 'macro_f1': 0.732663033474731, 'micro_f1': 0.8422496570644719, 'mae': 0.19798995837642583}\n",
      "{'loss': 0.32853347063064575, 'epoch': 8.5, 'step': 6868, 'lr': 7.624030856485954e-06, 'week': 3, 'validation_loss': 0.20950075492694759, 'macro_f1': 0.6654007216168523, 'micro_f1': 0.7973251028806584, 'mae': 0.2550699519505812}\n",
      "{'loss': 0.32853347063064575, 'epoch': 8.5, 'step': 6868, 'lr': 7.624030856485954e-06, 'week': 4, 'validation_loss': 0.20950075492694759, 'macro_f1': 0.6016414832905107, 'micro_f1': 0.7569730224051212, 'mae': 0.30944566246791705}\n",
      "{'loss': 0.32853347063064575, 'epoch': 8.5, 'step': 6868, 'lr': 7.624030856485954e-06, 'week': 5, 'validation_loss': 0.20950075492694759, 'macro_f1': 0.5552670322176559, 'micro_f1': 0.725080018289895, 'mae': 0.356277388710321}\n",
      "{'loss': 0.32853347063064575, 'epoch': 8.5, 'step': 6868, 'lr': 7.624030856485954e-06, 'week': 6, 'validation_loss': 0.20950075492694759, 'macro_f1': 0.5069245653511274, 'micro_f1': 0.693758573388203, 'mae': 0.39800901344140227}\n",
      "{'loss': 0.22685246169567108, 'epoch': 9.0, 'step': 7272, 'lr': 3.4579257196884897e-06, 'week': 1, 'validation_loss': 0.20839356755216917, 'macro_f1': 0.8223107405778127, 'micro_f1': 0.901806127114769, 'mae': 0.12848360017849195}\n",
      "{'loss': 0.22685246169567108, 'epoch': 9.0, 'step': 7272, 'lr': 3.4579257196884897e-06, 'week': 2, 'validation_loss': 0.20839356755216917, 'macro_f1': 0.7296510754986146, 'micro_f1': 0.8414494741655236, 'mae': 0.19780904760524584}\n",
      "{'loss': 0.22685246169567108, 'epoch': 9.0, 'step': 7272, 'lr': 3.4579257196884897e-06, 'week': 3, 'validation_loss': 0.20839356755216917, 'macro_f1': 0.6680289412987473, 'micro_f1': 0.796753543667124, 'mae': 0.25560775775294337}\n",
      "{'loss': 0.22685246169567108, 'epoch': 9.0, 'step': 7272, 'lr': 3.4579257196884897e-06, 'week': 4, 'validation_loss': 0.20839356755216917, 'macro_f1': 0.5962603546157171, 'micro_f1': 0.7574302697759487, 'mae': 0.30930161806428336}\n",
      "{'loss': 0.22685246169567108, 'epoch': 9.0, 'step': 7272, 'lr': 3.4579257196884897e-06, 'week': 5, 'validation_loss': 0.20839356755216917, 'macro_f1': 0.5501061095487954, 'micro_f1': 0.7256515775034293, 'mae': 0.357583037221166}\n",
      "{'loss': 0.22685246169567108, 'epoch': 9.0, 'step': 7272, 'lr': 3.4579257196884897e-06, 'week': 6, 'validation_loss': 0.20839356755216917, 'macro_f1': 0.49535492354079674, 'micro_f1': 0.6917009602194787, 'mae': 0.4009863807990776}\n"
     ]
    },
    {
     "data": {
      "application/vnd.jupyter.widget-view+json": {
       "model_id": "b32f996508b64a0996f2837aba98249f",
       "version_major": 2,
       "version_minor": 0
      },
      "text/plain": [
       "epoch 10/10:   0%|          | 0/808 [00:00<?, ?it/s]"
      ]
     },
     "metadata": {},
     "output_type": "display_data"
    },
    {
     "name": "stdout",
     "output_type": "stream",
     "text": [
      "{'loss': 0.25695177912712097, 'epoch': 9.5, 'step': 7676, 'lr': 8.734789157224429e-07, 'week': 1, 'validation_loss': 0.20909173030784164, 'macro_f1': 0.8165918622641696, 'micro_f1': 0.901806127114769, 'mae': 0.1281539956706188}\n",
      "{'loss': 0.25695177912712097, 'epoch': 9.5, 'step': 7676, 'lr': 8.734789157224429e-07, 'week': 2, 'validation_loss': 0.20909173030784164, 'macro_f1': 0.7282013910751234, 'micro_f1': 0.8412208504801097, 'mae': 0.19784116620438666}\n",
      "{'loss': 0.25695177912712097, 'epoch': 9.5, 'step': 7676, 'lr': 8.734789157224429e-07, 'week': 3, 'validation_loss': 0.20909173030784164, 'macro_f1': 0.6669224318436774, 'micro_f1': 0.7965249199817102, 'mae': 0.2559141221920711}\n",
      "{'loss': 0.25695177912712097, 'epoch': 9.5, 'step': 7676, 'lr': 8.734789157224429e-07, 'week': 4, 'validation_loss': 0.20909173030784164, 'macro_f1': 0.6048005436161064, 'micro_f1': 0.7565157750342936, 'mae': 0.310132521012289}\n",
      "{'loss': 0.25695177912712097, 'epoch': 9.5, 'step': 7676, 'lr': 8.734789157224429e-07, 'week': 5, 'validation_loss': 0.20909173030784164, 'macro_f1': 0.5587983646793756, 'micro_f1': 0.7258802011888431, 'mae': 0.35753242010072567}\n",
      "{'loss': 0.25695177912712097, 'epoch': 9.5, 'step': 7676, 'lr': 8.734789157224429e-07, 'week': 6, 'validation_loss': 0.20909173030784164, 'macro_f1': 0.5096867450565331, 'micro_f1': 0.6918152720621856, 'mae': 0.39998771517026155}\n",
      "{'loss': 0.24444273114204407, 'epoch': 10.0, 'step': 8080, 'lr': 2.853990486928992e-10, 'week': 1, 'validation_loss': 0.20817832189841548, 'macro_f1': 0.8269562544759098, 'micro_f1': 0.9027206218564243, 'mae': 0.1281283666964413}\n",
      "{'loss': 0.24444273114204407, 'epoch': 10.0, 'step': 8080, 'lr': 2.853990486928992e-10, 'week': 2, 'validation_loss': 0.20817832189841548, 'macro_f1': 0.7288493879305257, 'micro_f1': 0.8416780978509374, 'mae': 0.1976286478785545}\n",
      "{'loss': 0.24444273114204407, 'epoch': 10.0, 'step': 8080, 'lr': 2.853990486928992e-10, 'week': 3, 'validation_loss': 0.20817832189841548, 'macro_f1': 0.6676655218265485, 'micro_f1': 0.7969821673525376, 'mae': 0.25572018357076204}\n",
      "{'loss': 0.24444273114204407, 'epoch': 10.0, 'step': 8080, 'lr': 2.853990486928992e-10, 'week': 4, 'validation_loss': 0.20817832189841548, 'macro_f1': 0.6008239140309884, 'micro_f1': 0.7569730224051212, 'mae': 0.30980718371409094}\n",
      "{'loss': 0.24444273114204407, 'epoch': 10.0, 'step': 8080, 'lr': 2.853990486928992e-10, 'week': 5, 'validation_loss': 0.20817832189841548, 'macro_f1': 0.5604856293729047, 'micro_f1': 0.726223136716964, 'mae': 0.3576114991531556}\n",
      "{'loss': 0.24444273114204407, 'epoch': 10.0, 'step': 8080, 'lr': 2.853990486928992e-10, 'week': 6, 'validation_loss': 0.20817832189841548, 'macro_f1': 0.4984307161518535, 'micro_f1': 0.6920438957475995, 'mae': 0.4001812759760255}\n",
      "Validation loss decreased (0.208309 --> 0.208178).  Saving model ...\n"
     ]
    }
   ],
   "source": [
    "is_cuda = torch.cuda.is_available()\n",
    "if is_cuda:\n",
    "    device = torch.device(\"cuda\")\n",
    "    print(\"using GPU\")\n",
    "else:\n",
    "    device = torch.device(\"cpu\")\n",
    "    print(\"using CPU\")\n",
    "static_dim = 0\n",
    "if use_static:\n",
    "    static_dim = X_static_train.shape[-1]\n",
    "model = DroughtNetLSTM(\n",
    "    output_weeks,\n",
    "    X_time_train.shape[-1],\n",
    "    hidden_dim,\n",
    "    n_layers,\n",
    "    ffnn_layers,\n",
    "    dropout,\n",
    "    static_dim,\n",
    ")\n",
    "model.to(device)\n",
    "loss_function = nn.MSELoss()\n",
    "if one_cycle:\n",
    "    optimizer = torch.optim.AdamW(model.parameters(), lr=lr)\n",
    "    scheduler = torch.optim.lr_scheduler.OneCycleLR(\n",
    "        optimizer, max_lr=lr, steps_per_epoch=len(train_loader), epochs=epochs\n",
    "    )\n",
    "else:\n",
    "    optimizer = torch.optim.AdamW(model.parameters(), lr=lr)\n",
    "counter = 0\n",
    "valid_loss_min = np.Inf\n",
    "torch.manual_seed(42)\n",
    "np.random.seed(42)\n",
    "for i in range(epochs):\n",
    "    h = model.init_hidden(batch_size)\n",
    "\n",
    "    for k, (inputs, static, labels) in tqdm(\n",
    "        enumerate(train_loader),\n",
    "        desc=f\"epoch {i+1}/{epochs}\",\n",
    "        total=len(train_loader),\n",
    "    ):\n",
    "        model.train()\n",
    "        counter += 1\n",
    "        if len(inputs) < batch_size:\n",
    "            h = model.init_hidden(len(inputs))\n",
    "        h = tuple([e.data for e in h])\n",
    "        inputs, labels, static = (\n",
    "            inputs.to(device),\n",
    "            labels.to(device),\n",
    "            static.to(device),\n",
    "        )\n",
    "        model.zero_grad()\n",
    "        if use_static:\n",
    "            output, h = model(inputs, h, static)\n",
    "        else:\n",
    "            output, h = model(inputs, h)\n",
    "        loss = loss_function(output, labels.float())\n",
    "        loss.backward()\n",
    "        nn.utils.clip_grad_norm_(model.parameters(), clip)\n",
    "        optimizer.step()\n",
    "        if one_cycle:\n",
    "            scheduler.step()\n",
    "\n",
    "        with torch.no_grad():\n",
    "            if k == len(train_loader) - 1 or k == (len(train_loader) - 1) // 2:\n",
    "                val_h = model.init_hidden(batch_size)\n",
    "                val_losses = []\n",
    "                model.eval()\n",
    "                labels = []\n",
    "                preds = []\n",
    "                raw_labels = []\n",
    "                raw_preds = []\n",
    "                for inp, stat, lab in valid_loader:\n",
    "                    if len(inp) < batch_size:\n",
    "                        val_h = model.init_hidden(len(inp))\n",
    "                    val_h = tuple([each.data for each in val_h])\n",
    "                    inp, lab, stat = inp.to(device), lab.to(device), stat.to(device)\n",
    "                    if use_static:\n",
    "                        out, val_h = model(inp, val_h, stat)\n",
    "                    else:\n",
    "                        out, val_h = model(inp, val_h)\n",
    "                    val_loss = loss_function(out, lab.float())\n",
    "                    val_losses.append(val_loss.item())\n",
    "                    for labs in lab:\n",
    "                        labels.append([int(l.round()) for l in labs])\n",
    "                        raw_labels.append([float(l) for l in labs])\n",
    "                    for pred in out:\n",
    "                        preds.append([int(p.round()) for p in pred])\n",
    "                        raw_preds.append([float(p) for p in pred])\n",
    "                # log data\n",
    "                labels = np.array(labels)\n",
    "                preds = np.clip(np.array(preds), 0, 5)\n",
    "                raw_preds = np.array(raw_preds)\n",
    "                raw_labels = np.array(raw_labels)\n",
    "                for i in range(output_weeks):\n",
    "                    log_dict = {\n",
    "                        \"loss\": float(loss),\n",
    "                        \"epoch\": counter / len(train_loader),\n",
    "                        \"step\": counter,\n",
    "                        \"lr\": optimizer.param_groups[0][\"lr\"],\n",
    "                        \"week\": i + 1,\n",
    "                    }\n",
    "                    # w = f'week_{i+1}_'\n",
    "                    w = \"\"\n",
    "                    log_dict[f\"{w}validation_loss\"] = np.mean(val_losses)\n",
    "                    log_dict[f\"{w}macro_f1\"] = f1_score(\n",
    "                        labels[:, i], preds[:, i], average=\"macro\"\n",
    "                    )\n",
    "                    log_dict[f\"{w}micro_f1\"] = f1_score(\n",
    "                        labels[:, i], preds[:, i], average=\"micro\"\n",
    "                    )\n",
    "                    log_dict[f\"{w}mae\"] = mean_absolute_error(\n",
    "                        raw_labels[:, i], raw_preds[:, i]\n",
    "                    )\n",
    "                    print(log_dict)\n",
    "                    for j, f1 in enumerate(\n",
    "                        f1_score(labels[:, i], preds[:, i], average=None)\n",
    "                    ):\n",
    "                        log_dict[f\"{w}{id2class[j]}_f1\"] = f1\n",
    "                    model.train()\n",
    "                if np.mean(val_losses) <= valid_loss_min:\n",
    "                    torch.save(model.state_dict(), \"./state_dict.pt\")\n",
    "                    print(\n",
    "                        \"Validation loss decreased ({:.6f} --> {:.6f}).  Saving model ...\".format(\n",
    "                            valid_loss_min, np.mean(val_losses)\n",
    "                        )\n",
    "                    )\n",
    "                    valid_loss_min = np.mean(val_losses)"
   ]
  },
  {
   "cell_type": "code",
   "execution_count": 13,
   "metadata": {
    "execution": {
     "iopub.execute_input": "2021-07-23T03:08:54.373981Z",
     "iopub.status.busy": "2021-07-23T03:08:54.373580Z",
     "iopub.status.idle": "2021-07-23T03:08:54.381569Z",
     "shell.execute_reply": "2021-07-23T03:08:54.379972Z",
     "shell.execute_reply.started": "2021-07-23T03:08:54.373948Z"
    }
   },
   "outputs": [],
   "source": [
    "def predict(x, static=None):\n",
    "    if static is None:\n",
    "        out, _ = model(torch.tensor(x), val_h)\n",
    "    else:\n",
    "        out, _ = model(torch.tensor(x), val_h, static)\n",
    "    return out"
   ]
  },
  {
   "cell_type": "code",
   "execution_count": 32,
   "metadata": {
    "execution": {
     "iopub.execute_input": "2021-07-23T03:19:01.681752Z",
     "iopub.status.busy": "2021-07-23T03:19:01.681389Z",
     "iopub.status.idle": "2021-07-23T03:22:19.254741Z",
     "shell.execute_reply": "2021-07-23T03:22:19.253403Z",
     "shell.execute_reply.started": "2021-07-23T03:19:01.681721Z"
    }
   },
   "outputs": [
    {
     "data": {
      "application/vnd.jupyter.widget-view+json": {
       "model_id": "f81dbb67f3684479aa2c19f96ebd1412",
       "version_major": 2,
       "version_minor": 0
      },
      "text/plain": [
       "validation predictions...:   0%|          | 0/69 [00:00<?, ?it/s]"
      ]
     },
     "metadata": {},
     "output_type": "display_data"
    },
    {
     "name": "stderr",
     "output_type": "stream",
     "text": [
      "/opt/conda/lib/python3.7/site-packages/ipykernel_launcher.py:5: UserWarning: To copy construct from a tensor, it is recommended to use sourceTensor.clone().detach() or sourceTensor.clone().detach().requires_grad_(True), rather than torch.tensor(sourceTensor).\n",
      "  \"\"\"\n"
     ]
    }
   ],
   "source": [
    "dict_map = {\n",
    "    \"y_pred\": [],\n",
    "    \"y_pred_rounded\": [],\n",
    "    \"fips\": [],\n",
    "    \"date\": [],\n",
    "    \"y_true\": [],\n",
    "    \"week\": [],\n",
    "}\n",
    "i = 0\n",
    "for x, static, y in tqdm(\n",
    "    valid_loader,\n",
    "    desc=\"validation predictions...\",\n",
    "):\n",
    "    val_h = tuple([each.data.cpu() for each in model.init_hidden(len(x))])\n",
    "    with torch.no_grad():\n",
    "        if use_static:\n",
    "            pred = predict(x, static).clone().detach()\n",
    "        else:\n",
    "            pred = predict(x).clone().detach()\n",
    "    for w in range(output_weeks):\n",
    "        dict_map[\"y_pred\"] += [float(p[w]) for p in pred]\n",
    "        dict_map[\"y_pred_rounded\"] += [int(p.round()[w]) for p in pred]\n",
    "        dict_map[\"fips\"] += [f[1][0] for f in valid_fips[i : i + len(x)]]\n",
    "        dict_map[\"date\"] += [f[1][1] for f in valid_fips[i : i + len(x)]]\n",
    "        dict_map[\"y_true\"] += [float(item[w]) for item in y]\n",
    "        dict_map[\"week\"] += [w] * len(x)\n",
    "    i += len(x)\n",
    "df = pd.DataFrame(dict_map)"
   ]
  },
  {
   "cell_type": "code",
   "execution_count": 39,
   "metadata": {
    "execution": {
     "iopub.execute_input": "2021-07-23T03:28:07.690943Z",
     "iopub.status.busy": "2021-07-23T03:28:07.690512Z",
     "iopub.status.idle": "2021-07-23T03:28:07.754040Z",
     "shell.execute_reply": "2021-07-23T03:28:07.752983Z",
     "shell.execute_reply.started": "2021-07-23T03:28:07.690900Z"
    }
   },
   "outputs": [
    {
     "name": "stdout",
     "output_type": "stream",
     "text": [
      "Week 1 MAE 0.133 F1 0.821\n",
      "Week 2 MAE 0.2 F1 0.719\n",
      "Week 3 MAE 0.257 F1 0.658\n",
      "Week 4 MAE 0.312 F1 0.583\n",
      "Week 5 MAE 0.359 F1 0.545\n",
      "Week 6 MAE 0.401 F1 0.497\n"
     ]
    }
   ],
   "source": [
    "for w in range(6):\n",
    "    wdf = df[df['week']==w]\n",
    "    mae = mean_absolute_error(wdf['y_true'], wdf['y_pred']).round(3)\n",
    "    f1 = f1_score(wdf['y_true'].round(),wdf['y_pred'].round(), average='macro').round(3)\n",
    "    print(f\"Week {w+1}\", f\"MAE {mae}\", f\"F1 {f1}\")"
   ]
  }
 ],
 "metadata": {
  "kernelspec": {
   "display_name": "Python 3 (ipykernel)",
   "language": "python",
   "name": "python3"
  },
  "language_info": {
   "codemirror_mode": {
    "name": "ipython",
    "version": 3
   },
   "file_extension": ".py",
   "mimetype": "text/x-python",
   "name": "python",
   "nbconvert_exporter": "python",
   "pygments_lexer": "ipython3",
   "version": "3.8.10"
  }
 },
 "nbformat": 4,
 "nbformat_minor": 4
}
